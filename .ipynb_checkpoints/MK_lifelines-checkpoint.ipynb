{
 "cells": [
  {
   "cell_type": "code",
   "execution_count": 1,
   "metadata": {},
   "outputs": [
    {
     "name": "stderr",
     "output_type": "stream",
     "text": [
      "/opt/miniconda3/envs/databs/lib/python3.8/site-packages/outdated/utils.py:14: OutdatedPackageWarning: The package pingouin is out of date. Your version is 0.3.6, the latest is 0.3.7.\n",
      "Set the environment variable OUTDATED_IGNORE=1 to disable these warnings.\n",
      "  return warn(\n"
     ]
    }
   ],
   "source": [
    "import matplotlib.pyplot as plt\n",
    "import pandas as pd\n",
    "import seaborn as sns\n",
    "import lifelines as lf\n",
    "import pingouin as pg"
   ]
  },
  {
   "cell_type": "markdown",
   "metadata": {},
   "source": [
    "## Survival"
   ]
  },
  {
   "cell_type": "code",
   "execution_count": 3,
   "metadata": {},
   "outputs": [],
   "source": [
    "MK_surv = pd.read_csv('/Users/labc02/Documents/PDCB_data/MK-project/MK_lifelines.csv')"
   ]
  },
  {
   "cell_type": "code",
   "execution_count": 24,
   "metadata": {},
   "outputs": [],
   "source": [
    "MK_surv.drop(MK_surv[MK_surv['Treatment'].str.contains('Naive')].index, inplace=True)"
   ]
  },
  {
   "cell_type": "code",
   "execution_count": 85,
   "metadata": {},
   "outputs": [
    {
     "data": {
      "text/plain": [
       "Genotype  Treatment  Dosage (mg/kg)\n",
       "KO        MK-801     0.5               15\n",
       "                     1.0               20\n",
       "          Saline     0.5               12\n",
       "                     1.0               19\n",
       "WT        MK-801     0.5                9\n",
       "                     1.0               11\n",
       "          Saline     0.5                9\n",
       "                     1.0               11\n",
       "Name: ID, dtype: int64"
      ]
     },
     "execution_count": 85,
     "metadata": {},
     "output_type": "execute_result"
    }
   ],
   "source": [
    "MK_surv.groupby(['Genotype', 'Treatment', 'Dosage (mg/kg)'])['ID'].count()"
   ]
  },
  {
   "cell_type": "code",
   "execution_count": 8,
   "metadata": {},
   "outputs": [],
   "source": [
    "km_fit = lf.KaplanMeierFitter()"
   ]
  },
  {
   "cell_type": "code",
   "execution_count": 42,
   "metadata": {},
   "outputs": [
    {
     "data": {
      "text/plain": [
       "Text(0.5, 1.0, 'All Groups')"
      ]
     },
     "execution_count": 42,
     "metadata": {},
     "output_type": "execute_result"
    },
    {
     "data": {
      "image/png": "[encoded data removed]",
      "text/plain": [
       "<Figure size 720x432 with 1 Axes>"
      ]
     },
     "metadata": {
      "needs_background": "light"
     },
     "output_type": "display_data"
    }
   ],
   "source": [
    "plt.figure(figsize=(10,6))\n",
    "ax=plt.subplot()\n",
    "for name, grouped_df in MK_surv.groupby(['Genotype', 'Treatment', 'Dosage (mg/kg)']):\n",
    "    km_fit.fit(grouped_df[\"Duration\"], grouped_df[\"Event\"], label=name)\n",
    "    km_fit.plot(ax=ax, ci_show=False)\n",
    "plt.ylabel('Survival (%)')\n",
    "plt.xlabel('Days')\n",
    "ax.legend(fancybox=True, ncol=2)\n",
    "plt.axvline(5, ls='--', color = 'k')\n",
    "plt.axvline(9, ls='--', color = 'k')\n",
    "plt.title('All Groups')"
   ]
  },
  {
   "cell_type": "code",
   "execution_count": 32,
   "metadata": {},
   "outputs": [],
   "source": [
    "MK_1mg = MK_surv[MK_surv['Dosage (mg/kg)']==1]"
   ]
  },
  {
   "cell_type": "code",
   "execution_count": 64,
   "metadata": {},
   "outputs": [],
   "source": [
    "KM1_stats={'groups':[('KO_MK-801', 'KO_Saline'), ('KO_MK-801', 'WT_MK-801'), ('KO_MK-801', 'WT_Saline'), ('KO_Saline', 'WT_MK-801'), ('KO_Saline', 'WT_Saline'), ('WT_Saline', 'WT_MK-801')], 'p_vals':[], 'p_adjust':[]}"
   ]
  },
  {
   "cell_type": "code",
   "execution_count": 65,
   "metadata": {},
   "outputs": [],
   "source": [
    "for group in KM1_stats['groups']:\n",
    "    gen_1 = group[0].split('_')[0]\n",
    "    tx_1 = group[0].split('_')[1]\n",
    "    gen_2 = group[1].split('_')[0]\n",
    "    tx_2 = group[1].split('_')[1]\n",
    "    \n",
    "    dur_1 = MK_1mg['Duration'][(MK_1mg['Genotype']==gen_1)&(MK_1mg['Treatment']==tx_1)]\n",
    "    dur_2 = MK_1mg['Duration'][(MK_1mg['Genotype']==gen_2)&(MK_1mg['Treatment']==tx_2)]\n",
    "    evt_1 = MK_1mg['Event'][(MK_1mg['Genotype']==gen_1)&(MK_1mg['Treatment']==tx_1)]\n",
    "    evt_2 = MK_1mg['Event'][(MK_1mg['Genotype']==gen_2)&(MK_1mg['Treatment']==tx_2)]\n",
    "    lr_ = lf.statistics.logrank_test(dur_1, dur_2, evt_1, evt_2)\n",
    "    \n",
    "    KM1_stats['p_vals'].append(lr_.p_value)"
   ]
  },
  {
   "cell_type": "code",
   "execution_count": 66,
   "metadata": {},
   "outputs": [
    {
     "data": {
      "text/plain": [
       "[1.6652494716468945e-07,\n",
       " 0.0014929687206982716,\n",
       " 5.792679840738753e-05,\n",
       " 0.07794326582172542,\n",
       " 0.6699334128439183,\n",
       " 0.2510604544355677]"
      ]
     },
     "execution_count": 66,
     "metadata": {},
     "output_type": "execute_result"
    }
   ],
   "source": [
    "KM1_stats['p_vals']"
   ]
  },
  {
   "cell_type": "code",
   "execution_count": 67,
   "metadata": {},
   "outputs": [],
   "source": [
    "bols, p_ad =pg.multicomp(KM1_stats['p_vals'], method = 'bonf')"
   ]
  },
  {
   "cell_type": "code",
   "execution_count": 68,
   "metadata": {},
   "outputs": [],
   "source": [
    "KM1_stats['p_adjust'] = p_ad"
   ]
  },
  {
   "cell_type": "code",
   "execution_count": 69,
   "metadata": {},
   "outputs": [
    {
     "data": {
      "text/plain": [
       "array([9.99149683e-07, 8.95781232e-03, 3.47560790e-04, 4.67659595e-01,\n",
       "       1.00000000e+00, 1.00000000e+00])"
      ]
     },
     "execution_count": 69,
     "metadata": {},
     "output_type": "execute_result"
    }
   ],
   "source": [
    "KM1_stats['p_adjust']"
   ]
  },
  {
   "cell_type": "code",
   "execution_count": 60,
   "metadata": {},
   "outputs": [
    {
     "data": {
      "text/plain": [
       "Text(0.5, 1.0, 'Dosage: 1mg/kg')"
      ]
     },
     "execution_count": 60,
     "metadata": {},
     "output_type": "execute_result"
    },
    {
     "data": {
      "image/png": "[encoded data removed]",
      "text/plain": [
       "<Figure size 720x432 with 1 Axes>"
      ]
     },
     "metadata": {
      "needs_background": "light"
     },
     "output_type": "display_data"
    }
   ],
   "source": [
    "plt.figure(figsize=(10,6))\n",
    "ax=plt.subplot()\n",
    "for name, grouped_df in MK_1mg.groupby(['Genotype', 'Treatment']):\n",
    "    km_fit.fit(grouped_df[\"Duration\"], grouped_df[\"Event\"], label=name)\n",
    "    km_fit.plot(ax=ax, ci_show=False)\n",
    "plt.ylabel('Survival (%)')\n",
    "plt.xlabel('Days')\n",
    "ax.legend(fancybox=True, ncol=2)\n",
    "plt.axvline(5, ls='--', color = 'k', alpha=.5)\n",
    "plt.axvline(9, ls='--', color = 'k', alpha=.5)\n",
    "plt.title('Dosage: 1mg/kg')"
   ]
  },
  {
   "cell_type": "code",
   "execution_count": 58,
   "metadata": {},
   "outputs": [
    {
     "data": {
      "text/html": [
       "<div>\n",
       "<style scoped>\n",
       "    .dataframe tbody tr th:only-of-type {\n",
       "        vertical-align: middle;\n",
       "    }\n",
       "\n",
       "    .dataframe tbody tr th {\n",
       "        vertical-align: top;\n",
       "    }\n",
       "\n",
       "    .dataframe thead th {\n",
       "        text-align: right;\n",
       "    }\n",
       "</style>\n",
       "<table border=\"1\" class=\"dataframe\">\n",
       "  <thead>\n",
       "    <tr style=\"text-align: right;\">\n",
       "      <th></th>\n",
       "      <th>groups</th>\n",
       "      <th>p_vals</th>\n",
       "      <th>p_adjust</th>\n",
       "    </tr>\n",
       "  </thead>\n",
       "  <tbody>\n",
       "    <tr>\n",
       "      <th>0</th>\n",
       "      <td>(KO_MK-801, KO_Saline)</td>\n",
       "      <td>1.665249e-07</td>\n",
       "      <td>9.991497e-07</td>\n",
       "    </tr>\n",
       "    <tr>\n",
       "      <th>1</th>\n",
       "      <td>(KO_MK-801, WT_MK-801)</td>\n",
       "      <td>1.492969e-03</td>\n",
       "      <td>8.957812e-03</td>\n",
       "    </tr>\n",
       "    <tr>\n",
       "      <th>2</th>\n",
       "      <td>(KO_MK-801, WT_Saline)</td>\n",
       "      <td>5.792680e-05</td>\n",
       "      <td>3.475608e-04</td>\n",
       "    </tr>\n",
       "    <tr>\n",
       "      <th>3</th>\n",
       "      <td>(KO_Saline, WT_MK-801)</td>\n",
       "      <td>7.794327e-02</td>\n",
       "      <td>4.676596e-01</td>\n",
       "    </tr>\n",
       "    <tr>\n",
       "      <th>4</th>\n",
       "      <td>(KO_Saline, WT_Saline)</td>\n",
       "      <td>6.699334e-01</td>\n",
       "      <td>1.000000e+00</td>\n",
       "    </tr>\n",
       "    <tr>\n",
       "      <th>5</th>\n",
       "      <td>(WT_Saline, WT_MK-801)</td>\n",
       "      <td>2.510605e-01</td>\n",
       "      <td>1.000000e+00</td>\n",
       "    </tr>\n",
       "  </tbody>\n",
       "</table>\n",
       "</div>"
      ],
      "text/plain": [
       "                   groups        p_vals      p_adjust\n",
       "0  (KO_MK-801, KO_Saline)  1.665249e-07  9.991497e-07\n",
       "1  (KO_MK-801, WT_MK-801)  1.492969e-03  8.957812e-03\n",
       "2  (KO_MK-801, WT_Saline)  5.792680e-05  3.475608e-04\n",
       "3  (KO_Saline, WT_MK-801)  7.794327e-02  4.676596e-01\n",
       "4  (KO_Saline, WT_Saline)  6.699334e-01  1.000000e+00\n",
       "5  (WT_Saline, WT_MK-801)  2.510605e-01  1.000000e+00"
      ]
     },
     "execution_count": 58,
     "metadata": {},
     "output_type": "execute_result"
    }
   ],
   "source": [
    "pd.DataFrame(KM1_stats) # Bonferroni correction"
   ]
  },
  {
   "cell_type": "code",
   "execution_count": 61,
   "metadata": {},
   "outputs": [],
   "source": [
    "MK_05mg = MK_surv[MK_surv['Dosage (mg/kg)']==.5]"
   ]
  },
  {
   "cell_type": "code",
   "execution_count": 70,
   "metadata": {},
   "outputs": [],
   "source": [
    "KM05_stats={'groups':[('KO_MK-801', 'KO_Saline'), ('KO_MK-801', 'WT_MK-801'), ('KO_MK-801', 'WT_Saline'), ('KO_Saline', 'WT_MK-801'), ('KO_Saline', 'WT_Saline'), ('WT_Saline', 'WT_MK-801')], 'p_vals':[], 'p_adjust':[]}\n"
   ]
  },
  {
   "cell_type": "code",
   "execution_count": 71,
   "metadata": {},
   "outputs": [],
   "source": [
    "for group in KM05_stats['groups']:\n",
    "    gen_1 = group[0].split('_')[0]\n",
    "    tx_1 = group[0].split('_')[1]\n",
    "    gen_2 = group[1].split('_')[0]\n",
    "    tx_2 = group[1].split('_')[1]\n",
    "    \n",
    "    dur_1 = MK_05mg['Duration'][(MK_05mg['Genotype']==gen_1)&(MK_05mg['Treatment']==tx_1)]\n",
    "    dur_2 = MK_05mg['Duration'][(MK_05mg['Genotype']==gen_2)&(MK_05mg['Treatment']==tx_2)]\n",
    "    evt_1 = MK_05mg['Event'][(MK_05mg['Genotype']==gen_1)&(MK_05mg['Treatment']==tx_1)]\n",
    "    evt_2 = MK_05mg['Event'][(MK_05mg['Genotype']==gen_2)&(MK_05mg['Treatment']==tx_2)]\n",
    "    lr_ = lf.statistics.logrank_test(dur_1, dur_2, evt_1, evt_2)\n",
    "    \n",
    "    KM05_stats['p_vals'].append(lr_.p_value)"
   ]
  },
  {
   "cell_type": "code",
   "execution_count": 81,
   "metadata": {},
   "outputs": [],
   "source": [
    "bols, p_ad05 =pg.multicomp(KM05_stats['p_vals'], method = 'bonf')"
   ]
  },
  {
   "cell_type": "code",
   "execution_count": 82,
   "metadata": {},
   "outputs": [],
   "source": [
    "KM05_stats['p_adjust'] = p_ad05"
   ]
  },
  {
   "cell_type": "code",
   "execution_count": 79,
   "metadata": {},
   "outputs": [
    {
     "data": {
      "text/plain": [
       "Text(0.5, 1.0, 'Dosage: 0.5mg/kg')"
      ]
     },
     "execution_count": 79,
     "metadata": {},
     "output_type": "execute_result"
    },
    {
     "data": {
      "image/png": "[encoded data removed]",
      "text/plain": [
       "<Figure size 720x432 with 1 Axes>"
      ]
     },
     "metadata": {
      "needs_background": "light"
     },
     "output_type": "display_data"
    }
   ],
   "source": [
    "plt.figure(figsize=(10,6))\n",
    "ax=plt.subplot()\n",
    "for name, grouped_df in MK_05mg.groupby(['Genotype', 'Treatment']):\n",
    "    km_fit.fit(grouped_df[\"Duration\"], grouped_df[\"Event\"], label=name)\n",
    "    km_fit.plot(ax=ax, ci_show=False)\n",
    "plt.ylabel('Survival (%)')\n",
    "plt.xlabel('Days')\n",
    "ax.legend(fancybox=True, ncol=2)\n",
    "plt.axvline(5, ls='--', color = 'k', alpha=.5)\n",
    "plt.axvline(9, ls='--', color = 'k', alpha=.5)\n",
    "plt.ylim(0, 1.02)\n",
    "plt.title('Dosage: 0.5mg/kg')"
   ]
  },
  {
   "cell_type": "code",
   "execution_count": 83,
   "metadata": {},
   "outputs": [
    {
     "data": {
      "text/html": [
       "<div>\n",
       "<style scoped>\n",
       "    .dataframe tbody tr th:only-of-type {\n",
       "        vertical-align: middle;\n",
       "    }\n",
       "\n",
       "    .dataframe tbody tr th {\n",
       "        vertical-align: top;\n",
       "    }\n",
       "\n",
       "    .dataframe thead th {\n",
       "        text-align: right;\n",
       "    }\n",
       "</style>\n",
       "<table border=\"1\" class=\"dataframe\">\n",
       "  <thead>\n",
       "    <tr style=\"text-align: right;\">\n",
       "      <th></th>\n",
       "      <th>groups</th>\n",
       "      <th>p_vals</th>\n",
       "      <th>p_adjust</th>\n",
       "    </tr>\n",
       "  </thead>\n",
       "  <tbody>\n",
       "    <tr>\n",
       "      <th>0</th>\n",
       "      <td>(KO_MK-801, KO_Saline)</td>\n",
       "      <td>0.396906</td>\n",
       "      <td>1.000000</td>\n",
       "    </tr>\n",
       "    <tr>\n",
       "      <th>1</th>\n",
       "      <td>(KO_MK-801, WT_MK-801)</td>\n",
       "      <td>0.568160</td>\n",
       "      <td>1.000000</td>\n",
       "    </tr>\n",
       "    <tr>\n",
       "      <th>2</th>\n",
       "      <td>(KO_MK-801, WT_Saline)</td>\n",
       "      <td>0.164305</td>\n",
       "      <td>0.985832</td>\n",
       "    </tr>\n",
       "    <tr>\n",
       "      <th>3</th>\n",
       "      <td>(KO_Saline, WT_MK-801)</td>\n",
       "      <td>0.805541</td>\n",
       "      <td>1.000000</td>\n",
       "    </tr>\n",
       "    <tr>\n",
       "      <th>4</th>\n",
       "      <td>(KO_Saline, WT_Saline)</td>\n",
       "      <td>0.386476</td>\n",
       "      <td>1.000000</td>\n",
       "    </tr>\n",
       "    <tr>\n",
       "      <th>5</th>\n",
       "      <td>(WT_Saline, WT_MK-801)</td>\n",
       "      <td>0.317311</td>\n",
       "      <td>1.000000</td>\n",
       "    </tr>\n",
       "  </tbody>\n",
       "</table>\n",
       "</div>"
      ],
      "text/plain": [
       "                   groups    p_vals  p_adjust\n",
       "0  (KO_MK-801, KO_Saline)  0.396906  1.000000\n",
       "1  (KO_MK-801, WT_MK-801)  0.568160  1.000000\n",
       "2  (KO_MK-801, WT_Saline)  0.164305  0.985832\n",
       "3  (KO_Saline, WT_MK-801)  0.805541  1.000000\n",
       "4  (KO_Saline, WT_Saline)  0.386476  1.000000\n",
       "5  (WT_Saline, WT_MK-801)  0.317311  1.000000"
      ]
     },
     "execution_count": 83,
     "metadata": {},
     "output_type": "execute_result"
    }
   ],
   "source": [
    "pd.DataFrame(KM05_stats) # Bonferroni correction"
   ]
  },
  {
   "cell_type": "markdown",
   "metadata": {},
   "source": [
    "## Nesting"
   ]
  },
  {
   "cell_type": "code",
   "execution_count": 87,
   "metadata": {},
   "outputs": [],
   "source": [
    "nest_r = pd.read_csv('/Users/labc02/Documents/PDCB_data/MK-project/Nesting Data.csv')"
   ]
  },
  {
   "cell_type": "code",
   "execution_count": 115,
   "metadata": {
    "collapsed": true,
    "jupyter": {
     "outputs_hidden": true
    }
   },
   "outputs": [
    {
     "data": {
      "text/html": [
       "<div>\n",
       "<style scoped>\n",
       "    .dataframe tbody tr th:only-of-type {\n",
       "        vertical-align: middle;\n",
       "    }\n",
       "\n",
       "    .dataframe tbody tr th {\n",
       "        vertical-align: top;\n",
       "    }\n",
       "\n",
       "    .dataframe thead th {\n",
       "        text-align: right;\n",
       "    }\n",
       "</style>\n",
       "<table border=\"1\" class=\"dataframe\">\n",
       "  <thead>\n",
       "    <tr style=\"text-align: right;\">\n",
       "      <th></th>\n",
       "      <th>Sub</th>\n",
       "      <th>Genotype</th>\n",
       "      <th>UR</th>\n",
       "      <th>Sex</th>\n",
       "      <th>Tx</th>\n",
       "      <th>Dose (mg/Kg)</th>\n",
       "      <th>Nesting Score</th>\n",
       "    </tr>\n",
       "  </thead>\n",
       "  <tbody>\n",
       "    <tr>\n",
       "      <th>27</th>\n",
       "      <td>1</td>\n",
       "      <td>KO</td>\n",
       "      <td>1.3</td>\n",
       "      <td>Female</td>\n",
       "      <td>MK-801</td>\n",
       "      <td>0.5</td>\n",
       "      <td>4.5</td>\n",
       "    </tr>\n",
       "    <tr>\n",
       "      <th>28</th>\n",
       "      <td>2</td>\n",
       "      <td>KO</td>\n",
       "      <td>1.3</td>\n",
       "      <td>Male</td>\n",
       "      <td>MK-801</td>\n",
       "      <td>0.5</td>\n",
       "      <td>2.0</td>\n",
       "    </tr>\n",
       "    <tr>\n",
       "      <th>29</th>\n",
       "      <td>3</td>\n",
       "      <td>KO</td>\n",
       "      <td>1.3</td>\n",
       "      <td>Female</td>\n",
       "      <td>MK-801</td>\n",
       "      <td>0.5</td>\n",
       "      <td>4.0</td>\n",
       "    </tr>\n",
       "    <tr>\n",
       "      <th>30</th>\n",
       "      <td>4</td>\n",
       "      <td>KO</td>\n",
       "      <td>1.3</td>\n",
       "      <td>Female</td>\n",
       "      <td>Saline</td>\n",
       "      <td>0.5</td>\n",
       "      <td>4.5</td>\n",
       "    </tr>\n",
       "    <tr>\n",
       "      <th>31</th>\n",
       "      <td>5</td>\n",
       "      <td>KO</td>\n",
       "      <td>1.3</td>\n",
       "      <td>Male</td>\n",
       "      <td>Saline</td>\n",
       "      <td>0.5</td>\n",
       "      <td>5.0</td>\n",
       "    </tr>\n",
       "    <tr>\n",
       "      <th>32</th>\n",
       "      <td>5</td>\n",
       "      <td>WT</td>\n",
       "      <td>4.2</td>\n",
       "      <td>Female</td>\n",
       "      <td>MK-801</td>\n",
       "      <td>0.5</td>\n",
       "      <td>4.5</td>\n",
       "    </tr>\n",
       "    <tr>\n",
       "      <th>33</th>\n",
       "      <td>6</td>\n",
       "      <td>WT</td>\n",
       "      <td>4.2</td>\n",
       "      <td>Male</td>\n",
       "      <td>MK-801</td>\n",
       "      <td>0.5</td>\n",
       "      <td>1.0</td>\n",
       "    </tr>\n",
       "    <tr>\n",
       "      <th>34</th>\n",
       "      <td>7</td>\n",
       "      <td>WT</td>\n",
       "      <td>4.2</td>\n",
       "      <td>Female</td>\n",
       "      <td>Saline</td>\n",
       "      <td>0.5</td>\n",
       "      <td>4.5</td>\n",
       "    </tr>\n",
       "    <tr>\n",
       "      <th>35</th>\n",
       "      <td>8</td>\n",
       "      <td>WT</td>\n",
       "      <td>4.2</td>\n",
       "      <td>Female</td>\n",
       "      <td>Saline</td>\n",
       "      <td>0.5</td>\n",
       "      <td>4.0</td>\n",
       "    </tr>\n",
       "    <tr>\n",
       "      <th>36</th>\n",
       "      <td>5</td>\n",
       "      <td>KO</td>\n",
       "      <td>4.3</td>\n",
       "      <td>Male</td>\n",
       "      <td>MK-801</td>\n",
       "      <td>0.5</td>\n",
       "      <td>5.0</td>\n",
       "    </tr>\n",
       "    <tr>\n",
       "      <th>37</th>\n",
       "      <td>6</td>\n",
       "      <td>KO</td>\n",
       "      <td>4.3</td>\n",
       "      <td>Male</td>\n",
       "      <td>Saline</td>\n",
       "      <td>0.5</td>\n",
       "      <td>4.0</td>\n",
       "    </tr>\n",
       "    <tr>\n",
       "      <th>40</th>\n",
       "      <td>1</td>\n",
       "      <td>WT</td>\n",
       "      <td>3.2</td>\n",
       "      <td>Male</td>\n",
       "      <td>MK-801</td>\n",
       "      <td>0.5</td>\n",
       "      <td>4.5</td>\n",
       "    </tr>\n",
       "    <tr>\n",
       "      <th>41</th>\n",
       "      <td>2</td>\n",
       "      <td>WT</td>\n",
       "      <td>3.2</td>\n",
       "      <td>Female</td>\n",
       "      <td>MK-801</td>\n",
       "      <td>0.5</td>\n",
       "      <td>4.0</td>\n",
       "    </tr>\n",
       "    <tr>\n",
       "      <th>42</th>\n",
       "      <td>3</td>\n",
       "      <td>WT</td>\n",
       "      <td>3.2</td>\n",
       "      <td>Male</td>\n",
       "      <td>MK-801</td>\n",
       "      <td>0.5</td>\n",
       "      <td>4.5</td>\n",
       "    </tr>\n",
       "    <tr>\n",
       "      <th>43</th>\n",
       "      <td>4</td>\n",
       "      <td>WT</td>\n",
       "      <td>3.2</td>\n",
       "      <td>Male</td>\n",
       "      <td>Saline</td>\n",
       "      <td>0.5</td>\n",
       "      <td>4.0</td>\n",
       "    </tr>\n",
       "    <tr>\n",
       "      <th>44</th>\n",
       "      <td>5</td>\n",
       "      <td>WT</td>\n",
       "      <td>3.2</td>\n",
       "      <td>Female</td>\n",
       "      <td>Saline</td>\n",
       "      <td>0.5</td>\n",
       "      <td>4.0</td>\n",
       "    </tr>\n",
       "    <tr>\n",
       "      <th>45</th>\n",
       "      <td>6</td>\n",
       "      <td>WT</td>\n",
       "      <td>3.2</td>\n",
       "      <td>Female</td>\n",
       "      <td>Saline</td>\n",
       "      <td>0.5</td>\n",
       "      <td>2.0</td>\n",
       "    </tr>\n",
       "    <tr>\n",
       "      <th>46</th>\n",
       "      <td>2</td>\n",
       "      <td>KO</td>\n",
       "      <td>3.3</td>\n",
       "      <td>Female</td>\n",
       "      <td>MK-801</td>\n",
       "      <td>0.5</td>\n",
       "      <td>3.5</td>\n",
       "    </tr>\n",
       "    <tr>\n",
       "      <th>47</th>\n",
       "      <td>3</td>\n",
       "      <td>KO</td>\n",
       "      <td>3.3</td>\n",
       "      <td>Male</td>\n",
       "      <td>MK-801</td>\n",
       "      <td>0.5</td>\n",
       "      <td>3.5</td>\n",
       "    </tr>\n",
       "    <tr>\n",
       "      <th>48</th>\n",
       "      <td>4</td>\n",
       "      <td>KO</td>\n",
       "      <td>3.3</td>\n",
       "      <td>Female</td>\n",
       "      <td>Saline</td>\n",
       "      <td>0.5</td>\n",
       "      <td>4.5</td>\n",
       "    </tr>\n",
       "    <tr>\n",
       "      <th>49</th>\n",
       "      <td>5</td>\n",
       "      <td>KO</td>\n",
       "      <td>3.3</td>\n",
       "      <td>Male</td>\n",
       "      <td>Saline</td>\n",
       "      <td>0.5</td>\n",
       "      <td>5.0</td>\n",
       "    </tr>\n",
       "    <tr>\n",
       "      <th>50</th>\n",
       "      <td>1</td>\n",
       "      <td>WT</td>\n",
       "      <td>1.3</td>\n",
       "      <td>Female</td>\n",
       "      <td>MK-801</td>\n",
       "      <td>0.5</td>\n",
       "      <td>1.0</td>\n",
       "    </tr>\n",
       "    <tr>\n",
       "      <th>51</th>\n",
       "      <td>3</td>\n",
       "      <td>WT</td>\n",
       "      <td>1.3</td>\n",
       "      <td>Female</td>\n",
       "      <td>Saline</td>\n",
       "      <td>0.5</td>\n",
       "      <td>4.0</td>\n",
       "    </tr>\n",
       "    <tr>\n",
       "      <th>52</th>\n",
       "      <td>4</td>\n",
       "      <td>WT</td>\n",
       "      <td>1.3</td>\n",
       "      <td>Male</td>\n",
       "      <td>Saline</td>\n",
       "      <td>0.5</td>\n",
       "      <td>4.0</td>\n",
       "    </tr>\n",
       "    <tr>\n",
       "      <th>53</th>\n",
       "      <td>1</td>\n",
       "      <td>KO</td>\n",
       "      <td>3.4</td>\n",
       "      <td>Female</td>\n",
       "      <td>MK-801</td>\n",
       "      <td>0.5</td>\n",
       "      <td>1.5</td>\n",
       "    </tr>\n",
       "    <tr>\n",
       "      <th>54</th>\n",
       "      <td>2</td>\n",
       "      <td>KO</td>\n",
       "      <td>3.4</td>\n",
       "      <td>Male</td>\n",
       "      <td>MK-801</td>\n",
       "      <td>0.5</td>\n",
       "      <td>5.0</td>\n",
       "    </tr>\n",
       "    <tr>\n",
       "      <th>55</th>\n",
       "      <td>4</td>\n",
       "      <td>KO</td>\n",
       "      <td>3.4</td>\n",
       "      <td>Female</td>\n",
       "      <td>MK-801</td>\n",
       "      <td>0.5</td>\n",
       "      <td>4.5</td>\n",
       "    </tr>\n",
       "    <tr>\n",
       "      <th>56</th>\n",
       "      <td>5</td>\n",
       "      <td>KO</td>\n",
       "      <td>3.4</td>\n",
       "      <td>Female</td>\n",
       "      <td>Saline</td>\n",
       "      <td>0.5</td>\n",
       "      <td>4.5</td>\n",
       "    </tr>\n",
       "    <tr>\n",
       "      <th>57</th>\n",
       "      <td>7</td>\n",
       "      <td>KO</td>\n",
       "      <td>3.4</td>\n",
       "      <td>Female</td>\n",
       "      <td>Saline</td>\n",
       "      <td>0.5</td>\n",
       "      <td>4.5</td>\n",
       "    </tr>\n",
       "    <tr>\n",
       "      <th>58</th>\n",
       "      <td>8</td>\n",
       "      <td>KO</td>\n",
       "      <td>3.4</td>\n",
       "      <td>Male</td>\n",
       "      <td>Saline</td>\n",
       "      <td>0.5</td>\n",
       "      <td>3.0</td>\n",
       "    </tr>\n",
       "    <tr>\n",
       "      <th>59</th>\n",
       "      <td>1</td>\n",
       "      <td>KO</td>\n",
       "      <td>1.4</td>\n",
       "      <td>Female</td>\n",
       "      <td>MK-801</td>\n",
       "      <td>0.5</td>\n",
       "      <td>5.0</td>\n",
       "    </tr>\n",
       "    <tr>\n",
       "      <th>60</th>\n",
       "      <td>2</td>\n",
       "      <td>KO</td>\n",
       "      <td>1.4</td>\n",
       "      <td>Male</td>\n",
       "      <td>MK-801</td>\n",
       "      <td>0.5</td>\n",
       "      <td>3.5</td>\n",
       "    </tr>\n",
       "    <tr>\n",
       "      <th>61</th>\n",
       "      <td>3</td>\n",
       "      <td>KO</td>\n",
       "      <td>1.4</td>\n",
       "      <td>Male</td>\n",
       "      <td>MK-801</td>\n",
       "      <td>0.5</td>\n",
       "      <td>4.5</td>\n",
       "    </tr>\n",
       "    <tr>\n",
       "      <th>62</th>\n",
       "      <td>4</td>\n",
       "      <td>KO</td>\n",
       "      <td>1.4</td>\n",
       "      <td>Female</td>\n",
       "      <td>Saline</td>\n",
       "      <td>0.5</td>\n",
       "      <td>2.5</td>\n",
       "    </tr>\n",
       "    <tr>\n",
       "      <th>63</th>\n",
       "      <td>5</td>\n",
       "      <td>KO</td>\n",
       "      <td>1.4</td>\n",
       "      <td>Male</td>\n",
       "      <td>Saline</td>\n",
       "      <td>0.5</td>\n",
       "      <td>5.0</td>\n",
       "    </tr>\n",
       "    <tr>\n",
       "      <th>64</th>\n",
       "      <td>6</td>\n",
       "      <td>KO</td>\n",
       "      <td>1.4</td>\n",
       "      <td>Female</td>\n",
       "      <td>Saline</td>\n",
       "      <td>0.5</td>\n",
       "      <td>3.0</td>\n",
       "    </tr>\n",
       "  </tbody>\n",
       "</table>\n",
       "</div>"
      ],
      "text/plain": [
       "    Sub Genotype   UR     Sex       Tx  Dose (mg/Kg)  Nesting Score\n",
       "27    1       KO  1.3  Female  MK-801            0.5            4.5\n",
       "28    2       KO  1.3    Male  MK-801            0.5            2.0\n",
       "29    3       KO  1.3  Female  MK-801            0.5            4.0\n",
       "30    4       KO  1.3  Female   Saline           0.5            4.5\n",
       "31    5       KO  1.3    Male   Saline           0.5            5.0\n",
       "32    5       WT  4.2  Female  MK-801            0.5            4.5\n",
       "33    6       WT  4.2    Male  MK-801            0.5            1.0\n",
       "34    7       WT  4.2  Female   Saline           0.5            4.5\n",
       "35    8       WT  4.2  Female   Saline           0.5            4.0\n",
       "36    5       KO  4.3    Male  MK-801            0.5            5.0\n",
       "37    6       KO  4.3    Male   Saline           0.5            4.0\n",
       "40    1       WT  3.2    Male  MK-801            0.5            4.5\n",
       "41    2       WT  3.2  Female  MK-801            0.5            4.0\n",
       "42    3       WT  3.2    Male  MK-801            0.5            4.5\n",
       "43    4       WT  3.2    Male   Saline           0.5            4.0\n",
       "44    5       WT  3.2  Female   Saline           0.5            4.0\n",
       "45    6       WT  3.2  Female   Saline           0.5            2.0\n",
       "46    2       KO  3.3  Female  MK-801            0.5            3.5\n",
       "47    3       KO  3.3    Male  MK-801            0.5            3.5\n",
       "48    4       KO  3.3  Female   Saline           0.5            4.5\n",
       "49    5       KO  3.3    Male   Saline           0.5            5.0\n",
       "50    1       WT  1.3  Female  MK-801            0.5            1.0\n",
       "51    3       WT  1.3  Female   Saline           0.5            4.0\n",
       "52    4       WT  1.3    Male   Saline           0.5            4.0\n",
       "53    1       KO  3.4  Female  MK-801            0.5            1.5\n",
       "54    2       KO  3.4    Male  MK-801            0.5            5.0\n",
       "55    4       KO  3.4  Female  MK-801            0.5            4.5\n",
       "56    5       KO  3.4  Female   Saline           0.5            4.5\n",
       "57    7       KO  3.4  Female   Saline           0.5            4.5\n",
       "58    8       KO  3.4    Male   Saline           0.5            3.0\n",
       "59    1       KO  1.4  Female  MK-801            0.5            5.0\n",
       "60    2       KO  1.4    Male  MK-801            0.5            3.5\n",
       "61    3       KO  1.4    Male  MK-801            0.5            4.5\n",
       "62    4       KO  1.4  Female   Saline           0.5            2.5\n",
       "63    5       KO  1.4    Male   Saline           0.5            5.0\n",
       "64    6       KO  1.4  Female   Saline           0.5            3.0"
      ]
     },
     "execution_count": 115,
     "metadata": {},
     "output_type": "execute_result"
    }
   ],
   "source": [
    "nest_r"
   ]
  },
  {
   "cell_type": "code",
   "execution_count": 113,
   "metadata": {},
   "outputs": [
    {
     "data": {
      "text/plain": [
       "<matplotlib.legend.Legend at 0x12713df70>"
      ]
     },
     "execution_count": 113,
     "metadata": {},
     "output_type": "execute_result"
    },
    {
     "data": {
      "image/png": "[encoded data removed]",
      "text/plain": [
       "<Figure size 432x288 with 1 Axes>"
      ]
     },
     "metadata": {
      "needs_background": "light"
     },
     "output_type": "display_data"
    }
   ],
   "source": [
    "sns.boxplot(data=nest_r[nest_r['Dose (mg/Kg)']==1], x='Genotype', y='Nesting Score', hue='Tx', showmeans=True, meanprops={'marker':'+', 'markeredgecolor':'k'}, width=0.5)\n",
    "plt.title('Nesting Score')\n",
    "plt.legend(loc=3)"
   ]
  },
  {
   "cell_type": "code",
   "execution_count": 138,
   "metadata": {},
   "outputs": [
    {
     "data": {
      "text/plain": [
       "<matplotlib.legend.Legend at 0x127e2f8b0>"
      ]
     },
     "execution_count": 138,
     "metadata": {},
     "output_type": "execute_result"
    },
    {
     "data": {
      "image/png": "[encoded data removed]",
      "text/plain": [
       "<Figure size 432x288 with 1 Axes>"
      ]
     },
     "metadata": {
      "needs_background": "light"
     },
     "output_type": "display_data"
    }
   ],
   "source": [
    "sns.boxplot(data=nest_r[nest_r['Dose (mg/Kg)']==0.5], x='Genotype', y='Nesting Score', hue='Tx', showmeans=True, meanprops={'marker':'+', 'markeredgecolor':'k'}, width=0.5)\n",
    "plt.title('Nesting Score')\n",
    "plt.legend(loc=3)"
   ]
  },
  {
   "cell_type": "markdown",
   "metadata": {},
   "source": [
    "## Burrowing"
   ]
  },
  {
   "cell_type": "code",
   "execution_count": 117,
   "metadata": {},
   "outputs": [],
   "source": [
    "burr_r = pd.read_csv('/Users/labc02/Documents/PDCB_data/MK-project/Burrowing.csv')"
   ]
  },
  {
   "cell_type": "code",
   "execution_count": 155,
   "metadata": {},
   "outputs": [
    {
     "data": {
      "text/plain": [
       "Genotype  Tx      Dose (mg/Kg)\n",
       "KO        MK 801  0.5             1\n",
       "                  1.0             2\n",
       "          Saline  0.5             1\n",
       "                  1.0             9\n",
       "WT        MK 801  1.0             8\n",
       "          Saline  1.0             7\n",
       "Name: Sub, dtype: int64"
      ]
     },
     "execution_count": 155,
     "metadata": {},
     "output_type": "execute_result"
    }
   ],
   "source": [
    "burr_r.groupby(['Genotype', 'Tx', 'Dose (mg/Kg)'])['Sub'].count()"
   ]
  },
  {
   "cell_type": "code",
   "execution_count": 151,
   "metadata": {},
   "outputs": [],
   "source": [
    "burr_r.dropna(inplace=True)"
   ]
  },
  {
   "cell_type": "code",
   "execution_count": 152,
   "metadata": {},
   "outputs": [
    {
     "data": {
      "text/plain": [
       "<matplotlib.legend.Legend at 0x124d968b0>"
      ]
     },
     "execution_count": 152,
     "metadata": {},
     "output_type": "execute_result"
    },
    {
     "data": {
      "image/png": "[encoded data removed]",
      "text/plain": [
       "<Figure size 432x288 with 1 Axes>"
      ]
     },
     "metadata": {
      "needs_background": "light"
     },
     "output_type": "display_data"
    }
   ],
   "source": [
    "sns.boxplot(data=burr_r[burr_r['Dose (mg/Kg)']==1], x='Genotype', y='% Test (12 h)', hue='Tx', showmeans=True, meanprops={'marker':'+', 'markeredgecolor':'k'}, width=0.5)\n",
    "plt.title('Burrowing 1mg/kg')\n",
    "plt.ylabel('% Burrowed')\n",
    "plt.legend(loc=3)"
   ]
  },
  {
   "cell_type": "code",
   "execution_count": 154,
   "metadata": {},
   "outputs": [
    {
     "data": {
      "text/plain": [
       "Text(0, 0.5, '% Burrowed')"
      ]
     },
     "execution_count": 154,
     "metadata": {},
     "output_type": "execute_result"
    },
    {
     "data": {
      "image/png": "[encoded data removed]",
      "text/plain": [
       "<Figure size 432x288 with 1 Axes>"
      ]
     },
     "metadata": {
      "needs_background": "light"
     },
     "output_type": "display_data"
    }
   ],
   "source": [
    "sns.boxplot(data=burr_r[burr_r['Tx']=='Saline'], x='Genotype', y='% Test (12 h)', showmeans=True, meanprops={'marker':'+', 'markeredgecolor':'k'}, width=0.5, palette=['forestgreen', 'royalblue'])\n",
    "plt.title('Burrowing (Saline)')\n",
    "plt.ylabel('% Burrowed')"
   ]
  },
  {
   "cell_type": "code",
   "execution_count": 156,
   "metadata": {},
   "outputs": [
    {
     "data": {
      "text/html": [
       "<div>\n",
       "<style scoped>\n",
       "    .dataframe tbody tr th:only-of-type {\n",
       "        vertical-align: middle;\n",
       "    }\n",
       "\n",
       "    .dataframe tbody tr th {\n",
       "        vertical-align: top;\n",
       "    }\n",
       "\n",
       "    .dataframe thead th {\n",
       "        text-align: right;\n",
       "    }\n",
       "</style>\n",
       "<table border=\"1\" class=\"dataframe\">\n",
       "  <thead>\n",
       "    <tr style=\"text-align: right;\">\n",
       "      <th></th>\n",
       "      <th>W</th>\n",
       "      <th>pval</th>\n",
       "      <th>normal</th>\n",
       "    </tr>\n",
       "  </thead>\n",
       "  <tbody>\n",
       "    <tr>\n",
       "      <th>KO</th>\n",
       "      <td>0.928817</td>\n",
       "      <td>0.436353</td>\n",
       "      <td>True</td>\n",
       "    </tr>\n",
       "    <tr>\n",
       "      <th>WT</th>\n",
       "      <td>0.927314</td>\n",
       "      <td>0.528297</td>\n",
       "      <td>True</td>\n",
       "    </tr>\n",
       "  </tbody>\n",
       "</table>\n",
       "</div>"
      ],
      "text/plain": [
       "           W      pval  normal\n",
       "KO  0.928817  0.436353    True\n",
       "WT  0.927314  0.528297    True"
      ]
     },
     "execution_count": 156,
     "metadata": {},
     "output_type": "execute_result"
    }
   ],
   "source": [
    "pg.normality(data=burr_r[burr_r['Tx']=='Saline'], dv='% Test (12 h)', group='Genotype')"
   ]
  },
  {
   "cell_type": "code",
   "execution_count": 161,
   "metadata": {},
   "outputs": [
    {
     "data": {
      "text/html": [
       "<div>\n",
       "<style scoped>\n",
       "    .dataframe tbody tr th:only-of-type {\n",
       "        vertical-align: middle;\n",
       "    }\n",
       "\n",
       "    .dataframe tbody tr th {\n",
       "        vertical-align: top;\n",
       "    }\n",
       "\n",
       "    .dataframe thead th {\n",
       "        text-align: right;\n",
       "    }\n",
       "</style>\n",
       "<table border=\"1\" class=\"dataframe\">\n",
       "  <thead>\n",
       "    <tr style=\"text-align: right;\">\n",
       "      <th></th>\n",
       "      <th>T</th>\n",
       "      <th>dof</th>\n",
       "      <th>tail</th>\n",
       "      <th>p-val</th>\n",
       "      <th>CI95%</th>\n",
       "      <th>cohen-d</th>\n",
       "      <th>BF10</th>\n",
       "      <th>power</th>\n",
       "    </tr>\n",
       "  </thead>\n",
       "  <tbody>\n",
       "    <tr>\n",
       "      <th>T-test</th>\n",
       "      <td>-2.904884</td>\n",
       "      <td>11.43129</td>\n",
       "      <td>two-sided</td>\n",
       "      <td>0.013811</td>\n",
       "      <td>[-50.24, -7.04]</td>\n",
       "      <td>1.227985</td>\n",
       "      <td>4.882</td>\n",
       "      <td>0.644445</td>\n",
       "    </tr>\n",
       "  </tbody>\n",
       "</table>\n",
       "</div>"
      ],
      "text/plain": [
       "               T       dof       tail     p-val            CI95%   cohen-d  \\\n",
       "T-test -2.904884  11.43129  two-sided  0.013811  [-50.24, -7.04]  1.227985   \n",
       "\n",
       "         BF10     power  \n",
       "T-test  4.882  0.644445  "
      ]
     },
     "execution_count": 161,
     "metadata": {},
     "output_type": "execute_result"
    }
   ],
   "source": [
    "pg.ttest(burr_r['% Test (12 h)'][(burr_r['Tx']=='Saline')& (burr_r['Genotype']=='KO')], burr_r['% Test (12 h)'][(burr_r['Tx']=='Saline')& (burr_r['Genotype']=='WT')])"
   ]
  },
  {
   "cell_type": "code",
   "execution_count": null,
   "metadata": {},
   "outputs": [],
   "source": []
  }
 ],
 "metadata": {
  "kernelspec": {
   "display_name": "Python 3",
   "language": "python",
   "name": "python3"
  },
  "language_info": {
   "codemirror_mode": {
    "name": "ipython",
    "version": 3
   },
   "file_extension": ".py",
   "mimetype": "text/x-python",
   "name": "python",
   "nbconvert_exporter": "python",
   "pygments_lexer": "ipython3",
   "version": "3.8.2"
  }
 },
 "nbformat": 4,
 "nbformat_minor": 4
}

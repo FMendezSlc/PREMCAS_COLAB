{
 "cells": [
  {
   "cell_type": "markdown",
   "metadata": {},
   "source": [
    "# Behavior Analysis"
   ]
  },
  {
   "cell_type": "markdown",
   "metadata": {},
   "source": [
    "## Assesing Sex as a Statistically Significant Factor"
   ]
  },
  {
   "cell_type": "code",
   "execution_count": 1,
   "metadata": {},
   "outputs": [],
   "source": [
    "import matplotlib.pyplot as plt\n",
    "import pandas as pd\n",
    "import seaborn as sns\n",
    "import pingouin as pg"
   ]
  },
  {
   "cell_type": "markdown",
   "metadata": {},
   "source": [
    "## Open Field"
   ]
  },
  {
   "cell_type": "code",
   "execution_count": 2,
   "metadata": {},
   "outputs": [],
   "source": [
    "of_raw = pd.read_csv('/Users/labc02/Documents/PDCB_data/Behavior/Open_Field/OF_data.csv')"
   ]
  },
  {
   "cell_type": "markdown",
   "metadata": {},
   "source": [
    "#### Check Normality for Total Distance, Corsses, Time in Center per group"
   ]
  },
  {
   "cell_type": "code",
   "execution_count": 458,
   "metadata": {},
   "outputs": [],
   "source": [
    "def detec_outlier(df, var_name, var_group):\n",
    "    '''[DataFrame, str, str -> DataFrame]\n",
    "    Outlier detection based on absolute deviaton from the median.\n",
    "    Returns a copy of the original DataFrame without the indexes deemed as outliers'''\n",
    "    clean_df = df.copy()\n",
    "    outliers_idx = []\n",
    "    for var_ in var_name:\n",
    "        for group in df[var_group].unique():\n",
    "            outliers = pg.madmedianrule(df[var_][df[var_group]==group])\n",
    "            for ii in df[var_][df[var_group]==group][outliers].index.values:\n",
    "                outliers_idx.append(ii)\n",
    "    outliers_idx = set(outliers_idx)\n",
    "    clean_df.drop(outliers_idx, inplace = True)\n",
    "    return clean_df, outliers_idx"
   ]
  },
  {
   "cell_type": "code",
   "execution_count": 5,
   "metadata": {},
   "outputs": [],
   "source": [
    "outs = pg.madmedianrule(of_raw['Time_Center(Sec)'][of_raw['Sub_Group']=='WTF'])"
   ]
  },
  {
   "cell_type": "code",
   "execution_count": 22,
   "metadata": {},
   "outputs": [
    {
     "ename": "SyntaxError",
     "evalue": "invalid syntax (<ipython-input-22-15c81d8c2a06>, line 1)",
     "output_type": "error",
     "traceback": [
      "\u001b[0;36m  File \u001b[0;32m\"<ipython-input-22-15c81d8c2a06>\"\u001b[0;36m, line \u001b[0;32m1\u001b[0m\n\u001b[0;31m    ii for ii in of_raw['Time_Center(Sec)'][of_raw['Sub_Group']=='WTF'][outs].index.values\u001b[0m\n\u001b[0m       ^\u001b[0m\n\u001b[0;31mSyntaxError\u001b[0m\u001b[0;31m:\u001b[0m invalid syntax\n"
     ]
    }
   ],
   "source": [
    "ii for ii in of_raw['Time_Center(Sec)'][of_raw['Sub_Group']=='WTF'][outs].index.values"
   ]
  },
  {
   "cell_type": "code",
   "execution_count": 3,
   "metadata": {},
   "outputs": [
    {
     "data": {
      "text/plain": [
       "Index(['Sub_Name', 'Sub_Group', 'Sex', 'Genotype', 'Entries_Periphery',\n",
       "       'Entries_Center', 'Time_Periphery(Sec)', 'Time_Center(Sec)',\n",
       "       'Time_Periphery(%)', 'Time_Center(%)', 'Total_Distance',\n",
       "       'Distance_Periphery', 'Distance_Center', 'Distance_Periphery(%)',\n",
       "       'Distance_ Center(%)', 'Resting_Time_Periphery', 'Resting_Time_Center',\n",
       "       'Resting_Time_Total', 'Mean_Speed', 'Max_Speed', 'Crosses'],\n",
       "      dtype='object')"
      ]
     },
     "execution_count": 3,
     "metadata": {},
     "output_type": "execute_result"
    }
   ],
   "source": [
    "of_raw.columns"
   ]
  },
  {
   "cell_type": "code",
   "execution_count": 25,
   "metadata": {},
   "outputs": [
    {
     "name": "stdout",
     "output_type": "stream",
     "text": [
      "Normality test (Shapiro), Total_Distance\n",
      "            W      pval  normal\n",
      "KOF  0.893278  0.250967    True\n",
      "KOM  0.898312  0.278996    True\n",
      "WTF  0.877492  0.215544    True\n",
      "WTM  0.908242  0.303764    True\n",
      "Normality test (Shapiro), Crosses\n",
      "            W      pval  normal\n",
      "KOF  0.903123  0.308162    True\n",
      "KOM  0.952837  0.739771    True\n",
      "WTF  0.917318  0.448847    True\n",
      "WTM  0.935471  0.535118    True\n",
      "Normality test (Shapiro), Time_Center(%)\n",
      "            W      pval  normal\n",
      "KOF  0.929021  0.507204    True\n",
      "KOM  0.944262  0.653440    True\n",
      "WTF  0.843711  0.107567    True\n",
      "WTM  0.910015  0.315979    True\n",
      "Normality test (Shapiro), Resting_Time_Total\n",
      "            W      pval  normal\n",
      "KOF  0.822821  0.049957   False\n",
      "KOM  0.872326  0.158812    True\n",
      "WTF  0.777844  0.024562   False\n",
      "WTM  0.915678  0.357658    True\n",
      "Normality test (Shapiro), Mean_Speed\n",
      "            W      pval  normal\n",
      "KOF  0.953658  0.747984    True\n",
      "KOM  0.947890  0.689947    True\n",
      "WTF  0.896464  0.310107    True\n",
      "WTM  0.921072  0.401187    True\n",
      "Normality test (Shapiro), Max_Speed\n",
      "            W      pval  normal\n",
      "KOF  0.915282  0.392763    True\n",
      "KOM  0.802870  0.030721   False\n",
      "WTF  0.833664  0.086660    True\n",
      "WTM  0.925008  0.435308    True\n"
     ]
    }
   ],
   "source": [
    "for var_ in ['Total_Distance', 'Crosses', 'Time_Center(%)', 'Resting_Time_Total', 'Mean_Speed', 'Max_Speed']:\n",
    "    print(f'Normality test (Shapiro), {var_}')\n",
    "    print(pg.normality(of_raw, dv=var_, group='Sub_Group'))"
   ]
  },
  {
   "cell_type": "markdown",
   "metadata": {},
   "source": [
    "#### Check homoscedasticity; Leven's Test"
   ]
  },
  {
   "cell_type": "code",
   "execution_count": 26,
   "metadata": {},
   "outputs": [
    {
     "name": "stdout",
     "output_type": "stream",
     "text": [
      "Normality test (Shapiro), Total_Distance\n",
      "               W      pval  equal_var\n",
      "levene  0.663818  0.581279       True\n",
      "Normality test (Shapiro), Crosses\n",
      "               W     pval  equal_var\n",
      "levene  0.671402  0.57676       True\n",
      "Normality test (Shapiro), Time_Center(%)\n",
      "               W      pval  equal_var\n",
      "levene  3.033134  0.045714      False\n",
      "Normality test (Shapiro), Resting_Time_Total\n",
      "               W      pval  equal_var\n",
      "levene  0.527022  0.667357       True\n",
      "Normality test (Shapiro), Mean_Speed\n",
      "               W      pval  equal_var\n",
      "levene  1.205006  0.326094       True\n",
      "Normality test (Shapiro), Max_Speed\n",
      "              W      pval  equal_var\n",
      "levene  0.34967  0.789663       True\n"
     ]
    }
   ],
   "source": [
    "for var_ in ['Total_Distance', 'Crosses', 'Time_Center(%)', 'Resting_Time_Total', 'Mean_Speed', 'Max_Speed']:\n",
    "    print(f'Normality test (Shapiro), {var_}')\n",
    "    print(pg.homoscedasticity(of_raw, dv=var_, group='Sub_Group'))"
   ]
  },
  {
   "cell_type": "markdown",
   "metadata": {},
   "source": [
    "#### Total Distance; normality passed, homoscedasticity passed -> N-way anova"
   ]
  },
  {
   "cell_type": "code",
   "execution_count": 27,
   "metadata": {},
   "outputs": [
    {
     "data": {
      "text/html": [
       "<div>\n",
       "<style scoped>\n",
       "    .dataframe tbody tr th:only-of-type {\n",
       "        vertical-align: middle;\n",
       "    }\n",
       "\n",
       "    .dataframe tbody tr th {\n",
       "        vertical-align: top;\n",
       "    }\n",
       "\n",
       "    .dataframe thead th {\n",
       "        text-align: right;\n",
       "    }\n",
       "</style>\n",
       "<table border=\"1\" class=\"dataframe\">\n",
       "  <thead>\n",
       "    <tr style=\"text-align: right;\">\n",
       "      <th></th>\n",
       "      <th>Source</th>\n",
       "      <th>SS</th>\n",
       "      <th>DF</th>\n",
       "      <th>MS</th>\n",
       "      <th>F</th>\n",
       "      <th>p-unc</th>\n",
       "      <th>np2</th>\n",
       "    </tr>\n",
       "  </thead>\n",
       "  <tbody>\n",
       "    <tr>\n",
       "      <th>0</th>\n",
       "      <td>Sex</td>\n",
       "      <td>6.407894e+04</td>\n",
       "      <td>1.0</td>\n",
       "      <td>6.407894e+04</td>\n",
       "      <td>0.107121</td>\n",
       "      <td>0.745881</td>\n",
       "      <td>0.003811</td>\n",
       "    </tr>\n",
       "    <tr>\n",
       "      <th>1</th>\n",
       "      <td>Genotype</td>\n",
       "      <td>4.793856e+06</td>\n",
       "      <td>1.0</td>\n",
       "      <td>4.793856e+06</td>\n",
       "      <td>8.013876</td>\n",
       "      <td>0.008497</td>\n",
       "      <td>0.222522</td>\n",
       "    </tr>\n",
       "    <tr>\n",
       "      <th>2</th>\n",
       "      <td>Sex * Genotype</td>\n",
       "      <td>4.093371e+05</td>\n",
       "      <td>1.0</td>\n",
       "      <td>4.093371e+05</td>\n",
       "      <td>0.684288</td>\n",
       "      <td>0.415109</td>\n",
       "      <td>0.023856</td>\n",
       "    </tr>\n",
       "    <tr>\n",
       "      <th>3</th>\n",
       "      <td>Residual</td>\n",
       "      <td>1.674944e+07</td>\n",
       "      <td>28.0</td>\n",
       "      <td>5.981945e+05</td>\n",
       "      <td>NaN</td>\n",
       "      <td>NaN</td>\n",
       "      <td>NaN</td>\n",
       "    </tr>\n",
       "  </tbody>\n",
       "</table>\n",
       "</div>"
      ],
      "text/plain": [
       "           Source            SS    DF            MS         F     p-unc  \\\n",
       "0             Sex  6.407894e+04   1.0  6.407894e+04  0.107121  0.745881   \n",
       "1        Genotype  4.793856e+06   1.0  4.793856e+06  8.013876  0.008497   \n",
       "2  Sex * Genotype  4.093371e+05   1.0  4.093371e+05  0.684288  0.415109   \n",
       "3        Residual  1.674944e+07  28.0  5.981945e+05       NaN       NaN   \n",
       "\n",
       "        np2  \n",
       "0  0.003811  \n",
       "1  0.222522  \n",
       "2  0.023856  \n",
       "3       NaN  "
      ]
     },
     "execution_count": 27,
     "metadata": {},
     "output_type": "execute_result"
    }
   ],
   "source": [
    "pg.anova(data = of_raw, dv='Total_Distance', between = ['Sex', 'Genotype'])"
   ]
  },
  {
   "cell_type": "markdown",
   "metadata": {},
   "source": [
    "Significant Two-Way ANOVA; Genotype is identified as the only significant factor.\n",
    "Collapsing the Sex category leaves a two group comparison."
   ]
  },
  {
   "cell_type": "markdown",
   "metadata": {},
   "source": [
    "#### Normality check for Genotype, collapsing Sex"
   ]
  },
  {
   "cell_type": "code",
   "execution_count": 28,
   "metadata": {},
   "outputs": [
    {
     "data": {
      "text/html": [
       "<div>\n",
       "<style scoped>\n",
       "    .dataframe tbody tr th:only-of-type {\n",
       "        vertical-align: middle;\n",
       "    }\n",
       "\n",
       "    .dataframe tbody tr th {\n",
       "        vertical-align: top;\n",
       "    }\n",
       "\n",
       "    .dataframe thead th {\n",
       "        text-align: right;\n",
       "    }\n",
       "</style>\n",
       "<table border=\"1\" class=\"dataframe\">\n",
       "  <thead>\n",
       "    <tr style=\"text-align: right;\">\n",
       "      <th></th>\n",
       "      <th>W</th>\n",
       "      <th>pval</th>\n",
       "      <th>normal</th>\n",
       "    </tr>\n",
       "  </thead>\n",
       "  <tbody>\n",
       "    <tr>\n",
       "      <th>KO</th>\n",
       "      <td>0.900918</td>\n",
       "      <td>0.083137</td>\n",
       "      <td>True</td>\n",
       "    </tr>\n",
       "    <tr>\n",
       "      <th>WT</th>\n",
       "      <td>0.950741</td>\n",
       "      <td>0.501517</td>\n",
       "      <td>True</td>\n",
       "    </tr>\n",
       "  </tbody>\n",
       "</table>\n",
       "</div>"
      ],
      "text/plain": [
       "           W      pval  normal\n",
       "KO  0.900918  0.083137    True\n",
       "WT  0.950741  0.501517    True"
      ]
     },
     "execution_count": 28,
     "metadata": {},
     "output_type": "execute_result"
    }
   ],
   "source": [
    "pg.normality(of_raw, dv='Total_Distance', group='Genotype')"
   ]
  },
  {
   "cell_type": "markdown",
   "metadata": {},
   "source": [
    "Normality Passed; t-test"
   ]
  },
  {
   "cell_type": "code",
   "execution_count": 29,
   "metadata": {},
   "outputs": [
    {
     "data": {
      "text/html": [
       "<div>\n",
       "<style scoped>\n",
       "    .dataframe tbody tr th:only-of-type {\n",
       "        vertical-align: middle;\n",
       "    }\n",
       "\n",
       "    .dataframe tbody tr th {\n",
       "        vertical-align: top;\n",
       "    }\n",
       "\n",
       "    .dataframe thead th {\n",
       "        text-align: right;\n",
       "    }\n",
       "</style>\n",
       "<table border=\"1\" class=\"dataframe\">\n",
       "  <thead>\n",
       "    <tr style=\"text-align: right;\">\n",
       "      <th></th>\n",
       "      <th>T</th>\n",
       "      <th>dof</th>\n",
       "      <th>tail</th>\n",
       "      <th>p-val</th>\n",
       "      <th>CI95%</th>\n",
       "      <th>cohen-d</th>\n",
       "      <th>BF10</th>\n",
       "      <th>power</th>\n",
       "    </tr>\n",
       "  </thead>\n",
       "  <tbody>\n",
       "    <tr>\n",
       "      <th>T-test</th>\n",
       "      <td>2.874405</td>\n",
       "      <td>30</td>\n",
       "      <td>two-sided</td>\n",
       "      <td>0.007373</td>\n",
       "      <td>[222.92, 1317.1]</td>\n",
       "      <td>1.016256</td>\n",
       "      <td>6.384</td>\n",
       "      <td>0.794281</td>\n",
       "    </tr>\n",
       "  </tbody>\n",
       "</table>\n",
       "</div>"
      ],
      "text/plain": [
       "               T  dof       tail     p-val             CI95%   cohen-d   BF10  \\\n",
       "T-test  2.874405   30  two-sided  0.007373  [222.92, 1317.1]  1.016256  6.384   \n",
       "\n",
       "           power  \n",
       "T-test  0.794281  "
      ]
     },
     "execution_count": 29,
     "metadata": {},
     "output_type": "execute_result"
    }
   ],
   "source": [
    "pg.ttest(x=of_raw['Total_Distance'][of_raw['Genotype'] == 'WT'], y=of_raw['Total_Distance'][of_raw['Genotype'] == 'KO'])"
   ]
  },
  {
   "cell_type": "markdown",
   "metadata": {},
   "source": [
    "Significant difference: p≤ 0.05, power=0.79"
   ]
  },
  {
   "cell_type": "markdown",
   "metadata": {},
   "source": [
    "### Crosses\n",
    "Normality: Passed\n",
    "\n",
    "Homoscedasticity: Passed\n",
    "\n",
    "Test: Two-Way ANOVA"
   ]
  },
  {
   "cell_type": "code",
   "execution_count": 30,
   "metadata": {},
   "outputs": [
    {
     "data": {
      "text/html": [
       "<div>\n",
       "<style scoped>\n",
       "    .dataframe tbody tr th:only-of-type {\n",
       "        vertical-align: middle;\n",
       "    }\n",
       "\n",
       "    .dataframe tbody tr th {\n",
       "        vertical-align: top;\n",
       "    }\n",
       "\n",
       "    .dataframe thead th {\n",
       "        text-align: right;\n",
       "    }\n",
       "</style>\n",
       "<table border=\"1\" class=\"dataframe\">\n",
       "  <thead>\n",
       "    <tr style=\"text-align: right;\">\n",
       "      <th></th>\n",
       "      <th>Source</th>\n",
       "      <th>SS</th>\n",
       "      <th>DF</th>\n",
       "      <th>MS</th>\n",
       "      <th>F</th>\n",
       "      <th>p-unc</th>\n",
       "      <th>np2</th>\n",
       "    </tr>\n",
       "  </thead>\n",
       "  <tbody>\n",
       "    <tr>\n",
       "      <th>0</th>\n",
       "      <td>Sex</td>\n",
       "      <td>15.417815</td>\n",
       "      <td>1.0</td>\n",
       "      <td>15.417815</td>\n",
       "      <td>0.041089</td>\n",
       "      <td>0.840832</td>\n",
       "      <td>0.001465</td>\n",
       "    </tr>\n",
       "    <tr>\n",
       "      <th>1</th>\n",
       "      <td>Genotype</td>\n",
       "      <td>1315.880315</td>\n",
       "      <td>1.0</td>\n",
       "      <td>1315.880315</td>\n",
       "      <td>3.506872</td>\n",
       "      <td>0.071592</td>\n",
       "      <td>0.111305</td>\n",
       "    </tr>\n",
       "    <tr>\n",
       "      <th>2</th>\n",
       "      <td>Sex * Genotype</td>\n",
       "      <td>568.106987</td>\n",
       "      <td>1.0</td>\n",
       "      <td>568.106987</td>\n",
       "      <td>1.514027</td>\n",
       "      <td>0.228763</td>\n",
       "      <td>0.051299</td>\n",
       "    </tr>\n",
       "    <tr>\n",
       "      <th>3</th>\n",
       "      <td>Residual</td>\n",
       "      <td>10506.412698</td>\n",
       "      <td>28.0</td>\n",
       "      <td>375.229025</td>\n",
       "      <td>NaN</td>\n",
       "      <td>NaN</td>\n",
       "      <td>NaN</td>\n",
       "    </tr>\n",
       "  </tbody>\n",
       "</table>\n",
       "</div>"
      ],
      "text/plain": [
       "           Source            SS    DF           MS         F     p-unc  \\\n",
       "0             Sex     15.417815   1.0    15.417815  0.041089  0.840832   \n",
       "1        Genotype   1315.880315   1.0  1315.880315  3.506872  0.071592   \n",
       "2  Sex * Genotype    568.106987   1.0   568.106987  1.514027  0.228763   \n",
       "3        Residual  10506.412698  28.0   375.229025       NaN       NaN   \n",
       "\n",
       "        np2  \n",
       "0  0.001465  \n",
       "1  0.111305  \n",
       "2  0.051299  \n",
       "3       NaN  "
      ]
     },
     "execution_count": 30,
     "metadata": {},
     "output_type": "execute_result"
    }
   ],
   "source": [
    "pg.anova(data = of_raw, dv='Crosses', between = ['Sex', 'Genotype'])"
   ]
  },
  {
   "cell_type": "markdown",
   "metadata": {},
   "source": [
    "Same conclusion. Perform normality for collapsed category: Sex"
   ]
  },
  {
   "cell_type": "code",
   "execution_count": 31,
   "metadata": {},
   "outputs": [
    {
     "data": {
      "text/html": [
       "<div>\n",
       "<style scoped>\n",
       "    .dataframe tbody tr th:only-of-type {\n",
       "        vertical-align: middle;\n",
       "    }\n",
       "\n",
       "    .dataframe tbody tr th {\n",
       "        vertical-align: top;\n",
       "    }\n",
       "\n",
       "    .dataframe thead th {\n",
       "        text-align: right;\n",
       "    }\n",
       "</style>\n",
       "<table border=\"1\" class=\"dataframe\">\n",
       "  <thead>\n",
       "    <tr style=\"text-align: right;\">\n",
       "      <th></th>\n",
       "      <th>W</th>\n",
       "      <th>pval</th>\n",
       "      <th>normal</th>\n",
       "    </tr>\n",
       "  </thead>\n",
       "  <tbody>\n",
       "    <tr>\n",
       "      <th>KO</th>\n",
       "      <td>0.949704</td>\n",
       "      <td>0.485010</td>\n",
       "      <td>True</td>\n",
       "    </tr>\n",
       "    <tr>\n",
       "      <th>WT</th>\n",
       "      <td>0.934793</td>\n",
       "      <td>0.290035</td>\n",
       "      <td>True</td>\n",
       "    </tr>\n",
       "  </tbody>\n",
       "</table>\n",
       "</div>"
      ],
      "text/plain": [
       "           W      pval  normal\n",
       "KO  0.949704  0.485010    True\n",
       "WT  0.934793  0.290035    True"
      ]
     },
     "execution_count": 31,
     "metadata": {},
     "output_type": "execute_result"
    }
   ],
   "source": [
    "pg.normality(of_raw, dv='Crosses', group='Genotype')"
   ]
  },
  {
   "cell_type": "markdown",
   "metadata": {},
   "source": [
    "Normality Passed.\n",
    "Test: unparied t-Test"
   ]
  },
  {
   "cell_type": "code",
   "execution_count": 72,
   "metadata": {},
   "outputs": [
    {
     "data": {
      "text/html": [
       "<div>\n",
       "<style scoped>\n",
       "    .dataframe tbody tr th:only-of-type {\n",
       "        vertical-align: middle;\n",
       "    }\n",
       "\n",
       "    .dataframe tbody tr th {\n",
       "        vertical-align: top;\n",
       "    }\n",
       "\n",
       "    .dataframe thead th {\n",
       "        text-align: right;\n",
       "    }\n",
       "</style>\n",
       "<table border=\"1\" class=\"dataframe\">\n",
       "  <thead>\n",
       "    <tr style=\"text-align: right;\">\n",
       "      <th></th>\n",
       "      <th>T</th>\n",
       "      <th>dof</th>\n",
       "      <th>tail</th>\n",
       "      <th>p-val</th>\n",
       "      <th>CI95%</th>\n",
       "      <th>cohen-d</th>\n",
       "      <th>BF10</th>\n",
       "      <th>power</th>\n",
       "    </tr>\n",
       "  </thead>\n",
       "  <tbody>\n",
       "    <tr>\n",
       "      <th>T-test</th>\n",
       "      <td>1.903231</td>\n",
       "      <td>30</td>\n",
       "      <td>two-sided</td>\n",
       "      <td>0.066645</td>\n",
       "      <td>[-0.95, 26.82]</td>\n",
       "      <td>0.672894</td>\n",
       "      <td>1.295</td>\n",
       "      <td>0.453208</td>\n",
       "    </tr>\n",
       "  </tbody>\n",
       "</table>\n",
       "</div>"
      ],
      "text/plain": [
       "               T  dof       tail     p-val           CI95%   cohen-d   BF10  \\\n",
       "T-test  1.903231   30  two-sided  0.066645  [-0.95, 26.82]  0.672894  1.295   \n",
       "\n",
       "           power  \n",
       "T-test  0.453208  "
      ]
     },
     "execution_count": 72,
     "metadata": {},
     "output_type": "execute_result"
    }
   ],
   "source": [
    "pg.ttest(x=of_raw['Crosses'][of_raw['Genotype'] == 'WT'], y=of_raw['Crosses'][of_raw['Genotype'] == 'KO'])"
   ]
  },
  {
   "cell_type": "markdown",
   "metadata": {},
   "source": [
    "### Resting Time (Immobilitiy); small deviations from normality, Levene passed; Two-way anova"
   ]
  },
  {
   "cell_type": "code",
   "execution_count": 33,
   "metadata": {},
   "outputs": [
    {
     "data": {
      "text/html": [
       "<div>\n",
       "<style scoped>\n",
       "    .dataframe tbody tr th:only-of-type {\n",
       "        vertical-align: middle;\n",
       "    }\n",
       "\n",
       "    .dataframe tbody tr th {\n",
       "        vertical-align: top;\n",
       "    }\n",
       "\n",
       "    .dataframe thead th {\n",
       "        text-align: right;\n",
       "    }\n",
       "</style>\n",
       "<table border=\"1\" class=\"dataframe\">\n",
       "  <thead>\n",
       "    <tr style=\"text-align: right;\">\n",
       "      <th></th>\n",
       "      <th>Source</th>\n",
       "      <th>SS</th>\n",
       "      <th>DF</th>\n",
       "      <th>MS</th>\n",
       "      <th>F</th>\n",
       "      <th>p-unc</th>\n",
       "      <th>np2</th>\n",
       "    </tr>\n",
       "  </thead>\n",
       "  <tbody>\n",
       "    <tr>\n",
       "      <th>0</th>\n",
       "      <td>Sex</td>\n",
       "      <td>73.180504</td>\n",
       "      <td>1.0</td>\n",
       "      <td>73.180504</td>\n",
       "      <td>0.114017</td>\n",
       "      <td>0.738135</td>\n",
       "      <td>0.004056</td>\n",
       "    </tr>\n",
       "    <tr>\n",
       "      <th>1</th>\n",
       "      <td>Genotype</td>\n",
       "      <td>3098.559526</td>\n",
       "      <td>1.0</td>\n",
       "      <td>3098.559526</td>\n",
       "      <td>4.827614</td>\n",
       "      <td>0.036447</td>\n",
       "      <td>0.147060</td>\n",
       "    </tr>\n",
       "    <tr>\n",
       "      <th>2</th>\n",
       "      <td>Sex * Genotype</td>\n",
       "      <td>123.740767</td>\n",
       "      <td>1.0</td>\n",
       "      <td>123.740767</td>\n",
       "      <td>0.192790</td>\n",
       "      <td>0.663974</td>\n",
       "      <td>0.006838</td>\n",
       "    </tr>\n",
       "    <tr>\n",
       "      <th>3</th>\n",
       "      <td>Residual</td>\n",
       "      <td>17971.542248</td>\n",
       "      <td>28.0</td>\n",
       "      <td>641.840795</td>\n",
       "      <td>NaN</td>\n",
       "      <td>NaN</td>\n",
       "      <td>NaN</td>\n",
       "    </tr>\n",
       "  </tbody>\n",
       "</table>\n",
       "</div>"
      ],
      "text/plain": [
       "           Source            SS    DF           MS         F     p-unc  \\\n",
       "0             Sex     73.180504   1.0    73.180504  0.114017  0.738135   \n",
       "1        Genotype   3098.559526   1.0  3098.559526  4.827614  0.036447   \n",
       "2  Sex * Genotype    123.740767   1.0   123.740767  0.192790  0.663974   \n",
       "3        Residual  17971.542248  28.0   641.840795       NaN       NaN   \n",
       "\n",
       "        np2  \n",
       "0  0.004056  \n",
       "1  0.147060  \n",
       "2  0.006838  \n",
       "3       NaN  "
      ]
     },
     "execution_count": 33,
     "metadata": {},
     "output_type": "execute_result"
    }
   ],
   "source": [
    "pg.anova(data = of_raw, dv='Resting_Time_Total', between = ['Sex', 'Genotype'])"
   ]
  },
  {
   "cell_type": "markdown",
   "metadata": {},
   "source": [
    "Significant ANOVA for genotype, not sex"
   ]
  },
  {
   "cell_type": "code",
   "execution_count": 34,
   "metadata": {},
   "outputs": [
    {
     "data": {
      "text/html": [
       "<div>\n",
       "<style scoped>\n",
       "    .dataframe tbody tr th:only-of-type {\n",
       "        vertical-align: middle;\n",
       "    }\n",
       "\n",
       "    .dataframe tbody tr th {\n",
       "        vertical-align: top;\n",
       "    }\n",
       "\n",
       "    .dataframe thead th {\n",
       "        text-align: right;\n",
       "    }\n",
       "</style>\n",
       "<table border=\"1\" class=\"dataframe\">\n",
       "  <thead>\n",
       "    <tr style=\"text-align: right;\">\n",
       "      <th></th>\n",
       "      <th>W</th>\n",
       "      <th>pval</th>\n",
       "      <th>normal</th>\n",
       "    </tr>\n",
       "  </thead>\n",
       "  <tbody>\n",
       "    <tr>\n",
       "      <th>KO</th>\n",
       "      <td>0.866194</td>\n",
       "      <td>0.023794</td>\n",
       "      <td>False</td>\n",
       "    </tr>\n",
       "    <tr>\n",
       "      <th>WT</th>\n",
       "      <td>0.867048</td>\n",
       "      <td>0.024516</td>\n",
       "      <td>False</td>\n",
       "    </tr>\n",
       "  </tbody>\n",
       "</table>\n",
       "</div>"
      ],
      "text/plain": [
       "           W      pval  normal\n",
       "KO  0.866194  0.023794   False\n",
       "WT  0.867048  0.024516   False"
      ]
     },
     "execution_count": 34,
     "metadata": {},
     "output_type": "execute_result"
    }
   ],
   "source": [
    "pg.normality(of_raw, dv='Resting_Time_Total', group='Genotype')"
   ]
  },
  {
   "cell_type": "code",
   "execution_count": 41,
   "metadata": {},
   "outputs": [],
   "source": [
    "rt_, outliers = detec_outlier(of_raw, ['Resting_Time_Total'], 'Genotype') # outlier detection"
   ]
  },
  {
   "cell_type": "code",
   "execution_count": 42,
   "metadata": {
    "collapsed": true,
    "jupyter": {
     "outputs_hidden": true
    }
   },
   "outputs": [
    {
     "data": {
      "text/plain": [
       "(   Sub_Name Sub_Group     Sex Genotype  Entries_Periphery  Entries_Center  \\\n",
       " 0    KOF_01       KOF  Female       KO                 37              36   \n",
       " 1    KOF_02       KOF  Female       KO                 31              30   \n",
       " 2    KOF_03       KOF  Female       KO                 33              33   \n",
       " 3    KOM_01       KOM    Male       KO                 34              35   \n",
       " 4    KOM_02       KOM    Male       KO                 27              27   \n",
       " 5    KOM_03       KOM    Male       KO                 20              20   \n",
       " 6    KOF_04       KOF  Female       KO                 33              33   \n",
       " 7    KOF_05       KOF  Female       KO                 42              43   \n",
       " 8    KOF_06       KOF  Female       KO                 43              42   \n",
       " 9    KOF_07       KOF  Female       KO                 21              21   \n",
       " 10   KOF_08       KOF  Female       KO                 41              41   \n",
       " 11   KOM_04       KOM    Male       KO                 37              36   \n",
       " 12   KOM_05       KOM    Male       KO                 26              26   \n",
       " 13   KOM_06       KOM    Male       KO                 27              27   \n",
       " 14   KOM_07       KOM    Male       KO                 44              44   \n",
       " 15   KOM_08       KOM    Male       KO                 37              37   \n",
       " 16   WTF_01       WTF  Female       WT                 49              49   \n",
       " 17   WTF_02       WTF  Female       WT                 52              52   \n",
       " 18   WTF_03       WTF  Female       WT                 36              37   \n",
       " 19   WTM_01       WTM    Male       WT                 39              38   \n",
       " 20   WTM_02       WTM    Male       WT                 59              58   \n",
       " 21   WTM_03       WTM    Male       WT                 53              53   \n",
       " 22   WTM_04       WTM    Male       WT                 43              42   \n",
       " 23   WTM_05       WTM    Male       WT                 57              57   \n",
       " 24   WTF_04       WTF  Female       WT                 25              25   \n",
       " 25   WTF_05       WTF  Female       WT                 32              32   \n",
       " 26   WTF_06       WTF  Female       WT                 27              27   \n",
       " 27   WTF_07       WTF  Female       WT                 37              37   \n",
       " 28   WTM_06       WTM    Male       WT                 36              37   \n",
       " 29   WTM_07       WTM    Male       WT                 39              39   \n",
       " 30   WTM_08       WTM    Male       WT                 24              24   \n",
       " 31   WTM_09       WTM    Male       WT                 28              28   \n",
       " \n",
       "     Time_Periphery(Sec)  Time_Center(Sec)  Time_Periphery(%)  Time_Center(%)  \\\n",
       " 0                204.43            100.60              67.02           32.98   \n",
       " 1                245.03             60.00              80.33           19.67   \n",
       " 2                257.40             47.63              84.38           15.62   \n",
       " 3                190.10            114.93              62.32           37.68   \n",
       " 4                236.03             69.00              77.38           22.62   \n",
       " 5                207.10             97.93              67.89           32.11   \n",
       " 6                265.07             39.97              86.90           13.10   \n",
       " 7                226.57             78.47              74.28           25.72   \n",
       " 8                242.73             62.30              79.58           20.42   \n",
       " 9                260.03             45.00              85.25           14.75   \n",
       " 10               238.87             66.17              78.31           21.69   \n",
       " 11               239.83             65.20              78.63           21.37   \n",
       " 12               284.27             20.77              93.19            6.81   \n",
       " 13               267.07             37.97              87.55           12.45   \n",
       " 14               258.73             46.30              84.82           15.18   \n",
       " 15               262.93             42.10              86.20           13.80   \n",
       " 16               240.23             64.80              78.76           21.24   \n",
       " 17               239.23             65.80              78.43           21.57   \n",
       " 18               256.17             48.87              83.98           16.02   \n",
       " 19               249.10             55.93              81.66           18.34   \n",
       " 20               231.07             73.97              75.75           24.25   \n",
       " 21               240.43             64.60              78.82           21.18   \n",
       " 22               229.70             75.33              75.30           24.70   \n",
       " 23               236.57             68.47              77.55           22.45   \n",
       " 24               257.27             47.77              84.34           15.66   \n",
       " 25               258.83             46.20              84.85           15.15   \n",
       " 26               255.23             49.80              83.67           16.33   \n",
       " 27               227.70             77.33              74.65           25.35   \n",
       " 28               230.70             74.33              75.63           24.37   \n",
       " 29               241.70             63.33              79.24           20.76   \n",
       " 30               257.03             48.00              84.26           15.74   \n",
       " 31               253.87             51.17              83.23           16.77   \n",
       " \n",
       "     ...  Distance_Periphery  Distance_Center  Distance_Periphery(%)  \\\n",
       " 0   ...             2303.87          1253.97                  64.75   \n",
       " 1   ...             2992.57          1192.68                  71.50   \n",
       " 2   ...             2638.33          1345.65                  66.22   \n",
       " 3   ...             1964.72          1362.91                  59.04   \n",
       " 4   ...             2537.30          1017.93                  71.37   \n",
       " 5   ...             1719.61           738.07                  69.97   \n",
       " 6   ...             1876.65           565.98                  76.83   \n",
       " 7   ...             1556.26           850.14                  64.67   \n",
       " 8   ...             1720.47           709.12                  70.81   \n",
       " 9   ...             1425.37           444.29                  76.24   \n",
       " 10  ...             1900.38           831.64                  69.56   \n",
       " 11  ...             1466.84           601.35                  70.92   \n",
       " 12  ...             1722.07           327.22                  84.03   \n",
       " 13  ...             1709.41           607.36                  73.78   \n",
       " 14  ...             1896.27           746.86                  71.74   \n",
       " 15  ...             2030.08           638.09                  76.09   \n",
       " 16  ...             1675.29           930.36                  64.29   \n",
       " 17  ...             1670.60           934.47                  64.13   \n",
       " 18  ...             1529.39           761.33                  66.76   \n",
       " 19  ...             1778.20           675.08                  72.48   \n",
       " 20  ...             2296.19          1231.01                  65.10   \n",
       " 21  ...             2157.50          1029.74                  67.69   \n",
       " 22  ...             2047.08          1068.65                  65.70   \n",
       " 23  ...             2269.19          1137.00                  66.62   \n",
       " 24  ...             3102.48           922.27                  77.09   \n",
       " 25  ...             3653.71          1219.75                  74.97   \n",
       " 26  ...             3010.28          1017.32                  74.74   \n",
       " 27  ...             2499.14          1469.64                  62.97   \n",
       " 28  ...             3042.34          1356.02                  69.17   \n",
       " 29  ...             2981.58          1486.41                  66.73   \n",
       " 30  ...             3470.43           996.82                  77.69   \n",
       " 31  ...             2390.52          1203.86                  66.51   \n",
       " \n",
       "     Distance_ Center(%)  Resting_Time_Periphery  Resting_Time_Center  \\\n",
       " 0                 35.25                    4.10                 7.47   \n",
       " 1                 28.50                   16.20                 0.90   \n",
       " 2                 33.78                   15.57                 0.43   \n",
       " 3                 40.96                    2.60                 7.17   \n",
       " 4                 28.63                    3.03                 2.53   \n",
       " 5                 30.03                   21.07                25.73   \n",
       " 6                 23.17                   66.27                 2.60   \n",
       " 7                 35.33                   48.03                10.87   \n",
       " 8                 29.19                   55.57                 5.50   \n",
       " 9                 23.76                   71.80                 6.40   \n",
       " 10                30.44                   62.10                 2.40   \n",
       " 11                29.08                   70.13                16.30   \n",
       " 12                15.97                   81.20                 2.67   \n",
       " 13                26.22                   76.03                 0.80   \n",
       " 14                28.26                   57.50                 2.80   \n",
       " 15                23.91                   58.53                 3.73   \n",
       " 16                35.71                   51.63                 1.83   \n",
       " 17                35.87                   49.73                 2.10   \n",
       " 18                33.24                   65.50                 1.80   \n",
       " 19                27.52                   51.20                 5.07   \n",
       " 20                34.90                   34.40                 1.57   \n",
       " 21                32.31                   29.60                 4.43   \n",
       " 22                34.30                   46.20                 1.67   \n",
       " 23                33.38                   32.03                 5.20   \n",
       " 24                22.91                   10.47                 0.37   \n",
       " 25                25.03                   12.43                 0.00   \n",
       " 26                25.26                   13.20                 0.70   \n",
       " 27                37.03                    9.07                 1.70   \n",
       " 28                30.83                    9.20                 1.47   \n",
       " 29                33.27                   11.77                 0.00   \n",
       " 30                22.31                   12.27                 0.10   \n",
       " 31                33.49                   27.73                 1.13   \n",
       " \n",
       "     Resting_Time_Total  Mean_Speed  Max_Speed  Crosses  \n",
       " 0                11.57       12.04      48.40       73  \n",
       " 1                17.10       14.45      50.48       61  \n",
       " 2                16.00       13.67      58.15       66  \n",
       " 3                 9.77       11.20      44.11       69  \n",
       " 4                 5.57       11.83      42.43       54  \n",
       " 5                46.80        9.21      38.34       40  \n",
       " 6                68.87        9.82      50.97       66  \n",
       " 7                58.90        9.32      45.93       85  \n",
       " 8                61.07        9.53      46.25       85  \n",
       " 9                78.20        7.62      35.86       42  \n",
       " 10               64.50       10.91      50.97       82  \n",
       " 11               86.43        8.85      42.08       73  \n",
       " 12               83.87        8.65      42.08       52  \n",
       " 13               76.83        9.59      40.90       54  \n",
       " 14               60.30       10.36      50.68       88  \n",
       " 15               62.27       10.52      59.86       74  \n",
       " 16               53.47        9.95      47.14       98  \n",
       " 17               51.83        9.90      47.14      104  \n",
       " 18               67.30        9.11      48.92       73  \n",
       " 19               56.27        9.42      51.86       77  \n",
       " 20               35.97       12.85      55.71      117  \n",
       " 21               34.03       11.49      54.03      106  \n",
       " 22               47.87       11.80      48.35       85  \n",
       " 23               37.23       12.44      55.13      114  \n",
       " 24               10.83       13.59      55.36       50  \n",
       " 25               12.43       16.57      65.92       64  \n",
       " 26               13.90       13.74      57.26       54  \n",
       " 27               10.77       13.40      48.25       74  \n",
       " 28               10.67       14.86      54.72       73  \n",
       " 29               11.77       15.16      62.43       78  \n",
       " 30               12.37       15.19      52.76       48  \n",
       " 31               28.87       12.83      50.85       56  \n",
       " \n",
       " [32 rows x 21 columns],\n",
       " {16, 17, 27})"
      ]
     },
     "execution_count": 42,
     "metadata": {},
     "output_type": "execute_result"
    }
   ],
   "source": [
    "rt_, outliers"
   ]
  },
  {
   "cell_type": "code",
   "execution_count": 44,
   "metadata": {},
   "outputs": [
    {
     "data": {
      "text/html": [
       "<div>\n",
       "<style scoped>\n",
       "    .dataframe tbody tr th:only-of-type {\n",
       "        vertical-align: middle;\n",
       "    }\n",
       "\n",
       "    .dataframe tbody tr th {\n",
       "        vertical-align: top;\n",
       "    }\n",
       "\n",
       "    .dataframe thead th {\n",
       "        text-align: right;\n",
       "    }\n",
       "</style>\n",
       "<table border=\"1\" class=\"dataframe\">\n",
       "  <thead>\n",
       "    <tr style=\"text-align: right;\">\n",
       "      <th></th>\n",
       "      <th>W</th>\n",
       "      <th>pval</th>\n",
       "      <th>normal</th>\n",
       "    </tr>\n",
       "  </thead>\n",
       "  <tbody>\n",
       "    <tr>\n",
       "      <th>KO</th>\n",
       "      <td>0.866194</td>\n",
       "      <td>0.023794</td>\n",
       "      <td>False</td>\n",
       "    </tr>\n",
       "    <tr>\n",
       "      <th>WT</th>\n",
       "      <td>0.867048</td>\n",
       "      <td>0.024516</td>\n",
       "      <td>False</td>\n",
       "    </tr>\n",
       "  </tbody>\n",
       "</table>\n",
       "</div>"
      ],
      "text/plain": [
       "           W      pval  normal\n",
       "KO  0.866194  0.023794   False\n",
       "WT  0.867048  0.024516   False"
      ]
     },
     "execution_count": 44,
     "metadata": {},
     "output_type": "execute_result"
    }
   ],
   "source": [
    "pg.normality(rt_, dv='Resting_Time_Total', group='Genotype') # not normal even after outlier detection"
   ]
  },
  {
   "cell_type": "code",
   "execution_count": 45,
   "metadata": {},
   "outputs": [
    {
     "data": {
      "text/html": [
       "<div>\n",
       "<style scoped>\n",
       "    .dataframe tbody tr th:only-of-type {\n",
       "        vertical-align: middle;\n",
       "    }\n",
       "\n",
       "    .dataframe tbody tr th {\n",
       "        vertical-align: top;\n",
       "    }\n",
       "\n",
       "    .dataframe thead th {\n",
       "        text-align: right;\n",
       "    }\n",
       "</style>\n",
       "<table border=\"1\" class=\"dataframe\">\n",
       "  <thead>\n",
       "    <tr style=\"text-align: right;\">\n",
       "      <th></th>\n",
       "      <th>U-val</th>\n",
       "      <th>tail</th>\n",
       "      <th>p-val</th>\n",
       "      <th>RBC</th>\n",
       "      <th>CLES</th>\n",
       "    </tr>\n",
       "  </thead>\n",
       "  <tbody>\n",
       "    <tr>\n",
       "      <th>MWU</th>\n",
       "      <td>73.0</td>\n",
       "      <td>two-sided</td>\n",
       "      <td>0.039971</td>\n",
       "      <td>0.429688</td>\n",
       "      <td>0.714844</td>\n",
       "    </tr>\n",
       "  </tbody>\n",
       "</table>\n",
       "</div>"
      ],
      "text/plain": [
       "     U-val       tail     p-val       RBC      CLES\n",
       "MWU   73.0  two-sided  0.039971  0.429688  0.714844"
      ]
     },
     "execution_count": 45,
     "metadata": {},
     "output_type": "execute_result"
    }
   ],
   "source": [
    "pg.mwu(of_raw['Resting_Time_Total'][of_raw['Genotype'] == 'WT'], of_raw['Resting_Time_Total'][of_raw['Genotype'] == 'KO'])"
   ]
  },
  {
   "cell_type": "markdown",
   "metadata": {},
   "source": [
    "Significant doifference in immobility"
   ]
  },
  {
   "cell_type": "markdown",
   "metadata": {},
   "source": [
    "#### Time in Center violated the equivalence of variance principle. Should procede with Welch ANOVA, but it's not Factorial."
   ]
  },
  {
   "cell_type": "code",
   "execution_count": 65,
   "metadata": {},
   "outputs": [
    {
     "data": {
      "text/html": [
       "<div>\n",
       "<style scoped>\n",
       "    .dataframe tbody tr th:only-of-type {\n",
       "        vertical-align: middle;\n",
       "    }\n",
       "\n",
       "    .dataframe tbody tr th {\n",
       "        vertical-align: top;\n",
       "    }\n",
       "\n",
       "    .dataframe thead th {\n",
       "        text-align: right;\n",
       "    }\n",
       "</style>\n",
       "<table border=\"1\" class=\"dataframe\">\n",
       "  <thead>\n",
       "    <tr style=\"text-align: right;\">\n",
       "      <th></th>\n",
       "      <th>W</th>\n",
       "      <th>pval</th>\n",
       "      <th>normal</th>\n",
       "    </tr>\n",
       "  </thead>\n",
       "  <tbody>\n",
       "    <tr>\n",
       "      <th>KOF</th>\n",
       "      <td>0.929021</td>\n",
       "      <td>0.507204</td>\n",
       "      <td>True</td>\n",
       "    </tr>\n",
       "    <tr>\n",
       "      <th>KOM</th>\n",
       "      <td>0.944262</td>\n",
       "      <td>0.653440</td>\n",
       "      <td>True</td>\n",
       "    </tr>\n",
       "    <tr>\n",
       "      <th>WTF</th>\n",
       "      <td>0.843711</td>\n",
       "      <td>0.107567</td>\n",
       "      <td>True</td>\n",
       "    </tr>\n",
       "    <tr>\n",
       "      <th>WTM</th>\n",
       "      <td>0.910015</td>\n",
       "      <td>0.315979</td>\n",
       "      <td>True</td>\n",
       "    </tr>\n",
       "  </tbody>\n",
       "</table>\n",
       "</div>"
      ],
      "text/plain": [
       "            W      pval  normal\n",
       "KOF  0.929021  0.507204    True\n",
       "KOM  0.944262  0.653440    True\n",
       "WTF  0.843711  0.107567    True\n",
       "WTM  0.910015  0.315979    True"
      ]
     },
     "execution_count": 65,
     "metadata": {},
     "output_type": "execute_result"
    }
   ],
   "source": [
    "pg.normality(of_raw, dv='Time_Center(%)', group='Sub_Group')"
   ]
  },
  {
   "cell_type": "code",
   "execution_count": 64,
   "metadata": {},
   "outputs": [
    {
     "data": {
      "text/html": [
       "<div>\n",
       "<style scoped>\n",
       "    .dataframe tbody tr th:only-of-type {\n",
       "        vertical-align: middle;\n",
       "    }\n",
       "\n",
       "    .dataframe tbody tr th {\n",
       "        vertical-align: top;\n",
       "    }\n",
       "\n",
       "    .dataframe thead th {\n",
       "        text-align: right;\n",
       "    }\n",
       "</style>\n",
       "<table border=\"1\" class=\"dataframe\">\n",
       "  <thead>\n",
       "    <tr style=\"text-align: right;\">\n",
       "      <th></th>\n",
       "      <th>Source</th>\n",
       "      <th>ddof1</th>\n",
       "      <th>ddof2</th>\n",
       "      <th>F</th>\n",
       "      <th>p-unc</th>\n",
       "      <th>np2</th>\n",
       "    </tr>\n",
       "  </thead>\n",
       "  <tbody>\n",
       "    <tr>\n",
       "      <th>0</th>\n",
       "      <td>Sub_Group</td>\n",
       "      <td>3</td>\n",
       "      <td>14.344051</td>\n",
       "      <td>0.426011</td>\n",
       "      <td>0.737355</td>\n",
       "      <td>0.016094</td>\n",
       "    </tr>\n",
       "  </tbody>\n",
       "</table>\n",
       "</div>"
      ],
      "text/plain": [
       "      Source  ddof1      ddof2         F     p-unc       np2\n",
       "0  Sub_Group      3  14.344051  0.426011  0.737355  0.016094"
      ]
     },
     "execution_count": 64,
     "metadata": {},
     "output_type": "execute_result"
    }
   ],
   "source": [
    "pg.welch_anova(data=of_raw, dv='Time_Center(%)', between='Sub_Group')"
   ]
  },
  {
   "cell_type": "markdown",
   "metadata": {},
   "source": [
    "Nevermind! There's no significant difference in the time spent at center."
   ]
  },
  {
   "cell_type": "code",
   "execution_count": 61,
   "metadata": {},
   "outputs": [
    {
     "data": {
      "text/html": [
       "<div>\n",
       "<style scoped>\n",
       "    .dataframe tbody tr th:only-of-type {\n",
       "        vertical-align: middle;\n",
       "    }\n",
       "\n",
       "    .dataframe tbody tr th {\n",
       "        vertical-align: top;\n",
       "    }\n",
       "\n",
       "    .dataframe thead th {\n",
       "        text-align: right;\n",
       "    }\n",
       "</style>\n",
       "<table border=\"1\" class=\"dataframe\">\n",
       "  <thead>\n",
       "    <tr style=\"text-align: right;\">\n",
       "      <th></th>\n",
       "      <th>W</th>\n",
       "      <th>pval</th>\n",
       "      <th>normal</th>\n",
       "    </tr>\n",
       "  </thead>\n",
       "  <tbody>\n",
       "    <tr>\n",
       "      <th>KO</th>\n",
       "      <td>0.945450</td>\n",
       "      <td>0.421190</td>\n",
       "      <td>True</td>\n",
       "    </tr>\n",
       "    <tr>\n",
       "      <th>WT</th>\n",
       "      <td>0.891943</td>\n",
       "      <td>0.059795</td>\n",
       "      <td>True</td>\n",
       "    </tr>\n",
       "  </tbody>\n",
       "</table>\n",
       "</div>"
      ],
      "text/plain": [
       "           W      pval  normal\n",
       "KO  0.945450  0.421190    True\n",
       "WT  0.891943  0.059795    True"
      ]
     },
     "execution_count": 61,
     "metadata": {},
     "output_type": "execute_result"
    }
   ],
   "source": [
    "pg.normality(of_raw, dv='Time_Center(%)', group='Genotype')"
   ]
  },
  {
   "cell_type": "code",
   "execution_count": 63,
   "metadata": {},
   "outputs": [
    {
     "data": {
      "text/html": [
       "<div>\n",
       "<style scoped>\n",
       "    .dataframe tbody tr th:only-of-type {\n",
       "        vertical-align: middle;\n",
       "    }\n",
       "\n",
       "    .dataframe tbody tr th {\n",
       "        vertical-align: top;\n",
       "    }\n",
       "\n",
       "    .dataframe thead th {\n",
       "        text-align: right;\n",
       "    }\n",
       "</style>\n",
       "<table border=\"1\" class=\"dataframe\">\n",
       "  <thead>\n",
       "    <tr style=\"text-align: right;\">\n",
       "      <th></th>\n",
       "      <th>T</th>\n",
       "      <th>dof</th>\n",
       "      <th>tail</th>\n",
       "      <th>p-val</th>\n",
       "      <th>CI95%</th>\n",
       "      <th>cohen-d</th>\n",
       "      <th>BF10</th>\n",
       "      <th>power</th>\n",
       "    </tr>\n",
       "  </thead>\n",
       "  <tbody>\n",
       "    <tr>\n",
       "      <th>T-test</th>\n",
       "      <td>-0.166122</td>\n",
       "      <td>30</td>\n",
       "      <td>two-sided</td>\n",
       "      <td>0.869176</td>\n",
       "      <td>[-5.06, 4.3]</td>\n",
       "      <td>0.058733</td>\n",
       "      <td>0.34</td>\n",
       "      <td>0.05297</td>\n",
       "    </tr>\n",
       "  </tbody>\n",
       "</table>\n",
       "</div>"
      ],
      "text/plain": [
       "               T  dof       tail     p-val         CI95%   cohen-d  BF10  \\\n",
       "T-test -0.166122   30  two-sided  0.869176  [-5.06, 4.3]  0.058733  0.34   \n",
       "\n",
       "          power  \n",
       "T-test  0.05297  "
      ]
     },
     "execution_count": 63,
     "metadata": {},
     "output_type": "execute_result"
    }
   ],
   "source": [
    "pg.ttest(x=of_raw['Time_Center(%)'][of_raw['Genotype'] == 'WT'], y=of_raw['Time_Center(%)'][of_raw['Genotype'] == 'KO'])"
   ]
  },
  {
   "cell_type": "markdown",
   "metadata": {},
   "source": [
    "#### Mean Speed"
   ]
  },
  {
   "cell_type": "code",
   "execution_count": 48,
   "metadata": {},
   "outputs": [
    {
     "data": {
      "text/html": [
       "<div>\n",
       "<style scoped>\n",
       "    .dataframe tbody tr th:only-of-type {\n",
       "        vertical-align: middle;\n",
       "    }\n",
       "\n",
       "    .dataframe tbody tr th {\n",
       "        vertical-align: top;\n",
       "    }\n",
       "\n",
       "    .dataframe thead th {\n",
       "        text-align: right;\n",
       "    }\n",
       "</style>\n",
       "<table border=\"1\" class=\"dataframe\">\n",
       "  <thead>\n",
       "    <tr style=\"text-align: right;\">\n",
       "      <th></th>\n",
       "      <th>W</th>\n",
       "      <th>pval</th>\n",
       "      <th>normal</th>\n",
       "    </tr>\n",
       "  </thead>\n",
       "  <tbody>\n",
       "    <tr>\n",
       "      <th>KOF</th>\n",
       "      <td>0.953658</td>\n",
       "      <td>0.747984</td>\n",
       "      <td>True</td>\n",
       "    </tr>\n",
       "    <tr>\n",
       "      <th>KOM</th>\n",
       "      <td>0.947890</td>\n",
       "      <td>0.689947</td>\n",
       "      <td>True</td>\n",
       "    </tr>\n",
       "    <tr>\n",
       "      <th>WTF</th>\n",
       "      <td>0.896464</td>\n",
       "      <td>0.310107</td>\n",
       "      <td>True</td>\n",
       "    </tr>\n",
       "    <tr>\n",
       "      <th>WTM</th>\n",
       "      <td>0.921072</td>\n",
       "      <td>0.401187</td>\n",
       "      <td>True</td>\n",
       "    </tr>\n",
       "  </tbody>\n",
       "</table>\n",
       "</div>"
      ],
      "text/plain": [
       "            W      pval  normal\n",
       "KOF  0.953658  0.747984    True\n",
       "KOM  0.947890  0.689947    True\n",
       "WTF  0.896464  0.310107    True\n",
       "WTM  0.921072  0.401187    True"
      ]
     },
     "execution_count": 48,
     "metadata": {},
     "output_type": "execute_result"
    }
   ],
   "source": [
    "pg.normality(of_raw, dv='Mean_Speed', group='Sub_Group')"
   ]
  },
  {
   "cell_type": "code",
   "execution_count": 49,
   "metadata": {},
   "outputs": [
    {
     "data": {
      "text/html": [
       "<div>\n",
       "<style scoped>\n",
       "    .dataframe tbody tr th:only-of-type {\n",
       "        vertical-align: middle;\n",
       "    }\n",
       "\n",
       "    .dataframe tbody tr th {\n",
       "        vertical-align: top;\n",
       "    }\n",
       "\n",
       "    .dataframe thead th {\n",
       "        text-align: right;\n",
       "    }\n",
       "</style>\n",
       "<table border=\"1\" class=\"dataframe\">\n",
       "  <thead>\n",
       "    <tr style=\"text-align: right;\">\n",
       "      <th></th>\n",
       "      <th>Source</th>\n",
       "      <th>SS</th>\n",
       "      <th>DF</th>\n",
       "      <th>MS</th>\n",
       "      <th>F</th>\n",
       "      <th>p-unc</th>\n",
       "      <th>np2</th>\n",
       "    </tr>\n",
       "  </thead>\n",
       "  <tbody>\n",
       "    <tr>\n",
       "      <th>0</th>\n",
       "      <td>Sex</td>\n",
       "      <td>0.222435</td>\n",
       "      <td>1.0</td>\n",
       "      <td>0.222435</td>\n",
       "      <td>0.051326</td>\n",
       "      <td>0.822418</td>\n",
       "      <td>0.001830</td>\n",
       "    </tr>\n",
       "    <tr>\n",
       "      <th>1</th>\n",
       "      <td>Genotype</td>\n",
       "      <td>37.907901</td>\n",
       "      <td>1.0</td>\n",
       "      <td>37.907901</td>\n",
       "      <td>8.747026</td>\n",
       "      <td>0.006238</td>\n",
       "      <td>0.238034</td>\n",
       "    </tr>\n",
       "    <tr>\n",
       "      <th>2</th>\n",
       "      <td>Sex * Genotype</td>\n",
       "      <td>4.254154</td>\n",
       "      <td>1.0</td>\n",
       "      <td>4.254154</td>\n",
       "      <td>0.981621</td>\n",
       "      <td>0.330284</td>\n",
       "      <td>0.033870</td>\n",
       "    </tr>\n",
       "    <tr>\n",
       "      <th>3</th>\n",
       "      <td>Residual</td>\n",
       "      <td>121.346530</td>\n",
       "      <td>28.0</td>\n",
       "      <td>4.333805</td>\n",
       "      <td>NaN</td>\n",
       "      <td>NaN</td>\n",
       "      <td>NaN</td>\n",
       "    </tr>\n",
       "  </tbody>\n",
       "</table>\n",
       "</div>"
      ],
      "text/plain": [
       "           Source          SS    DF         MS         F     p-unc       np2\n",
       "0             Sex    0.222435   1.0   0.222435  0.051326  0.822418  0.001830\n",
       "1        Genotype   37.907901   1.0  37.907901  8.747026  0.006238  0.238034\n",
       "2  Sex * Genotype    4.254154   1.0   4.254154  0.981621  0.330284  0.033870\n",
       "3        Residual  121.346530  28.0   4.333805       NaN       NaN       NaN"
      ]
     },
     "execution_count": 49,
     "metadata": {},
     "output_type": "execute_result"
    }
   ],
   "source": [
    "pg.anova(data = of_raw, dv='Mean_Speed', between = ['Sex', 'Genotype'])"
   ]
  },
  {
   "cell_type": "markdown",
   "metadata": {},
   "source": [
    "Again, mean speed shows a significant anova where the only significant factor is genotype."
   ]
  },
  {
   "cell_type": "code",
   "execution_count": 50,
   "metadata": {},
   "outputs": [
    {
     "data": {
      "text/html": [
       "<div>\n",
       "<style scoped>\n",
       "    .dataframe tbody tr th:only-of-type {\n",
       "        vertical-align: middle;\n",
       "    }\n",
       "\n",
       "    .dataframe tbody tr th {\n",
       "        vertical-align: top;\n",
       "    }\n",
       "\n",
       "    .dataframe thead th {\n",
       "        text-align: right;\n",
       "    }\n",
       "</style>\n",
       "<table border=\"1\" class=\"dataframe\">\n",
       "  <thead>\n",
       "    <tr style=\"text-align: right;\">\n",
       "      <th></th>\n",
       "      <th>W</th>\n",
       "      <th>pval</th>\n",
       "      <th>normal</th>\n",
       "    </tr>\n",
       "  </thead>\n",
       "  <tbody>\n",
       "    <tr>\n",
       "      <th>KO</th>\n",
       "      <td>0.947075</td>\n",
       "      <td>0.444816</td>\n",
       "      <td>True</td>\n",
       "    </tr>\n",
       "    <tr>\n",
       "      <th>WT</th>\n",
       "      <td>0.957615</td>\n",
       "      <td>0.618799</td>\n",
       "      <td>True</td>\n",
       "    </tr>\n",
       "  </tbody>\n",
       "</table>\n",
       "</div>"
      ],
      "text/plain": [
       "           W      pval  normal\n",
       "KO  0.947075  0.444816    True\n",
       "WT  0.957615  0.618799    True"
      ]
     },
     "execution_count": 50,
     "metadata": {},
     "output_type": "execute_result"
    }
   ],
   "source": [
    "pg.normality(of_raw, dv='Mean_Speed', group='Genotype')"
   ]
  },
  {
   "cell_type": "code",
   "execution_count": 51,
   "metadata": {},
   "outputs": [
    {
     "data": {
      "text/html": [
       "<div>\n",
       "<style scoped>\n",
       "    .dataframe tbody tr th:only-of-type {\n",
       "        vertical-align: middle;\n",
       "    }\n",
       "\n",
       "    .dataframe tbody tr th {\n",
       "        vertical-align: top;\n",
       "    }\n",
       "\n",
       "    .dataframe thead th {\n",
       "        text-align: right;\n",
       "    }\n",
       "</style>\n",
       "<table border=\"1\" class=\"dataframe\">\n",
       "  <thead>\n",
       "    <tr style=\"text-align: right;\">\n",
       "      <th></th>\n",
       "      <th>T</th>\n",
       "      <th>dof</th>\n",
       "      <th>tail</th>\n",
       "      <th>p-val</th>\n",
       "      <th>CI95%</th>\n",
       "      <th>cohen-d</th>\n",
       "      <th>BF10</th>\n",
       "      <th>power</th>\n",
       "    </tr>\n",
       "  </thead>\n",
       "  <tbody>\n",
       "    <tr>\n",
       "      <th>T-test</th>\n",
       "      <td>2.997852</td>\n",
       "      <td>30</td>\n",
       "      <td>two-sided</td>\n",
       "      <td>0.005419</td>\n",
       "      <td>[0.69, 3.65]</td>\n",
       "      <td>1.059901</td>\n",
       "      <td>8.089</td>\n",
       "      <td>0.826568</td>\n",
       "    </tr>\n",
       "  </tbody>\n",
       "</table>\n",
       "</div>"
      ],
      "text/plain": [
       "               T  dof       tail     p-val         CI95%   cohen-d   BF10  \\\n",
       "T-test  2.997852   30  two-sided  0.005419  [0.69, 3.65]  1.059901  8.089   \n",
       "\n",
       "           power  \n",
       "T-test  0.826568  "
      ]
     },
     "execution_count": 51,
     "metadata": {},
     "output_type": "execute_result"
    }
   ],
   "source": [
    "pg.ttest(x=of_raw['Mean_Speed'][of_raw['Genotype'] == 'WT'], y=of_raw['Mean_Speed'][of_raw['Genotype'] == 'KO'])"
   ]
  },
  {
   "cell_type": "markdown",
   "metadata": {},
   "source": [
    "### Max Speed"
   ]
  },
  {
   "cell_type": "code",
   "execution_count": 52,
   "metadata": {},
   "outputs": [
    {
     "data": {
      "text/html": [
       "<div>\n",
       "<style scoped>\n",
       "    .dataframe tbody tr th:only-of-type {\n",
       "        vertical-align: middle;\n",
       "    }\n",
       "\n",
       "    .dataframe tbody tr th {\n",
       "        vertical-align: top;\n",
       "    }\n",
       "\n",
       "    .dataframe thead th {\n",
       "        text-align: right;\n",
       "    }\n",
       "</style>\n",
       "<table border=\"1\" class=\"dataframe\">\n",
       "  <thead>\n",
       "    <tr style=\"text-align: right;\">\n",
       "      <th></th>\n",
       "      <th>Source</th>\n",
       "      <th>SS</th>\n",
       "      <th>DF</th>\n",
       "      <th>MS</th>\n",
       "      <th>F</th>\n",
       "      <th>p-unc</th>\n",
       "      <th>np2</th>\n",
       "    </tr>\n",
       "  </thead>\n",
       "  <tbody>\n",
       "    <tr>\n",
       "      <th>0</th>\n",
       "      <td>Sex</td>\n",
       "      <td>9.821463</td>\n",
       "      <td>1.0</td>\n",
       "      <td>9.821463</td>\n",
       "      <td>0.264077</td>\n",
       "      <td>0.611365</td>\n",
       "      <td>0.009343</td>\n",
       "    </tr>\n",
       "    <tr>\n",
       "      <th>1</th>\n",
       "      <td>Genotype</td>\n",
       "      <td>372.901247</td>\n",
       "      <td>1.0</td>\n",
       "      <td>372.901247</td>\n",
       "      <td>10.026457</td>\n",
       "      <td>0.003706</td>\n",
       "      <td>0.263671</td>\n",
       "    </tr>\n",
       "    <tr>\n",
       "      <th>2</th>\n",
       "      <td>Sex * Genotype</td>\n",
       "      <td>39.165360</td>\n",
       "      <td>1.0</td>\n",
       "      <td>39.165360</td>\n",
       "      <td>1.053066</td>\n",
       "      <td>0.313586</td>\n",
       "      <td>0.036246</td>\n",
       "    </tr>\n",
       "    <tr>\n",
       "      <th>3</th>\n",
       "      <td>Residual</td>\n",
       "      <td>1041.368314</td>\n",
       "      <td>28.0</td>\n",
       "      <td>37.191726</td>\n",
       "      <td>NaN</td>\n",
       "      <td>NaN</td>\n",
       "      <td>NaN</td>\n",
       "    </tr>\n",
       "  </tbody>\n",
       "</table>\n",
       "</div>"
      ],
      "text/plain": [
       "           Source           SS    DF          MS          F     p-unc  \\\n",
       "0             Sex     9.821463   1.0    9.821463   0.264077  0.611365   \n",
       "1        Genotype   372.901247   1.0  372.901247  10.026457  0.003706   \n",
       "2  Sex * Genotype    39.165360   1.0   39.165360   1.053066  0.313586   \n",
       "3        Residual  1041.368314  28.0   37.191726        NaN       NaN   \n",
       "\n",
       "        np2  \n",
       "0  0.009343  \n",
       "1  0.263671  \n",
       "2  0.036246  \n",
       "3       NaN  "
      ]
     },
     "execution_count": 52,
     "metadata": {},
     "output_type": "execute_result"
    }
   ],
   "source": [
    "pg.anova(data = of_raw, dv='Max_Speed', between = ['Sex', 'Genotype'])"
   ]
  },
  {
   "cell_type": "markdown",
   "metadata": {},
   "source": [
    "Same result, genotype as the only significant factor."
   ]
  },
  {
   "cell_type": "code",
   "execution_count": 53,
   "metadata": {},
   "outputs": [
    {
     "data": {
      "text/html": [
       "<div>\n",
       "<style scoped>\n",
       "    .dataframe tbody tr th:only-of-type {\n",
       "        vertical-align: middle;\n",
       "    }\n",
       "\n",
       "    .dataframe tbody tr th {\n",
       "        vertical-align: top;\n",
       "    }\n",
       "\n",
       "    .dataframe thead th {\n",
       "        text-align: right;\n",
       "    }\n",
       "</style>\n",
       "<table border=\"1\" class=\"dataframe\">\n",
       "  <thead>\n",
       "    <tr style=\"text-align: right;\">\n",
       "      <th></th>\n",
       "      <th>W</th>\n",
       "      <th>pval</th>\n",
       "      <th>normal</th>\n",
       "    </tr>\n",
       "  </thead>\n",
       "  <tbody>\n",
       "    <tr>\n",
       "      <th>KO</th>\n",
       "      <td>0.960046</td>\n",
       "      <td>0.662619</td>\n",
       "      <td>True</td>\n",
       "    </tr>\n",
       "    <tr>\n",
       "      <th>WT</th>\n",
       "      <td>0.916302</td>\n",
       "      <td>0.147058</td>\n",
       "      <td>True</td>\n",
       "    </tr>\n",
       "  </tbody>\n",
       "</table>\n",
       "</div>"
      ],
      "text/plain": [
       "           W      pval  normal\n",
       "KO  0.960046  0.662619    True\n",
       "WT  0.916302  0.147058    True"
      ]
     },
     "execution_count": 53,
     "metadata": {},
     "output_type": "execute_result"
    }
   ],
   "source": [
    "pg.normality(of_raw, dv='Max_Speed', group='Genotype')"
   ]
  },
  {
   "cell_type": "code",
   "execution_count": 54,
   "metadata": {},
   "outputs": [
    {
     "data": {
      "text/html": [
       "<div>\n",
       "<style scoped>\n",
       "    .dataframe tbody tr th:only-of-type {\n",
       "        vertical-align: middle;\n",
       "    }\n",
       "\n",
       "    .dataframe tbody tr th {\n",
       "        vertical-align: top;\n",
       "    }\n",
       "\n",
       "    .dataframe thead th {\n",
       "        text-align: right;\n",
       "    }\n",
       "</style>\n",
       "<table border=\"1\" class=\"dataframe\">\n",
       "  <thead>\n",
       "    <tr style=\"text-align: right;\">\n",
       "      <th></th>\n",
       "      <th>T</th>\n",
       "      <th>dof</th>\n",
       "      <th>tail</th>\n",
       "      <th>p-val</th>\n",
       "      <th>CI95%</th>\n",
       "      <th>cohen-d</th>\n",
       "      <th>BF10</th>\n",
       "      <th>power</th>\n",
       "    </tr>\n",
       "  </thead>\n",
       "  <tbody>\n",
       "    <tr>\n",
       "      <th>T-test</th>\n",
       "      <td>3.176804</td>\n",
       "      <td>30</td>\n",
       "      <td>two-sided</td>\n",
       "      <td>0.003438</td>\n",
       "      <td>[2.42, 11.12]</td>\n",
       "      <td>1.12317</td>\n",
       "      <td>11.535</td>\n",
       "      <td>0.867285</td>\n",
       "    </tr>\n",
       "  </tbody>\n",
       "</table>\n",
       "</div>"
      ],
      "text/plain": [
       "               T  dof       tail     p-val          CI95%  cohen-d    BF10  \\\n",
       "T-test  3.176804   30  two-sided  0.003438  [2.42, 11.12]  1.12317  11.535   \n",
       "\n",
       "           power  \n",
       "T-test  0.867285  "
      ]
     },
     "execution_count": 54,
     "metadata": {},
     "output_type": "execute_result"
    }
   ],
   "source": [
    "pg.ttest(x=of_raw['Max_Speed'][of_raw['Genotype'] == 'WT'], y=of_raw['Max_Speed'][of_raw['Genotype'] == 'KO'])"
   ]
  },
  {
   "cell_type": "code",
   "execution_count": 218,
   "metadata": {},
   "outputs": [
    {
     "data": {
      "image/png": "[encoded data removed]",
      "text/plain": [
       "<Figure size 720x432 with 6 Axes>"
      ]
     },
     "metadata": {
      "needs_background": "light"
     },
     "output_type": "display_data"
    }
   ],
   "source": [
    "of_fig, of_ax = plt.subplots(ncols = 3, nrows = 2, figsize=(10,6))\n",
    "sns.boxplot(data= of_raw, x='Genotype', y='Total_Distance', palette=['forestgreen', 'royalblue'], showmeans=True, meanprops={'marker':'+', 'markeredgecolor':'k'}, width=0.5, ax=of_ax[0][0])\n",
    "of_ax[0][0].annotate(s='*', xy=(90, 130), xycoords='axes points', xytext=(-3, 5), textcoords='offset points', arrowprops=dict(arrowstyle='-[, widthB=4, lengthB=.2', lw=1.5, color='k'), fontsize = 12)\n",
    "of_ax[0][0].set_ylabel('Centimeters')\n",
    "of_ax[0][0].title.set_text('Total Distance')\n",
    "of_ax[0][0].set_ylim([1800, 5500])\n",
    "sns.boxplot(data= of_raw, x='Genotype', y='Crosses', palette=['forestgreen', 'royalblue'], showmeans=True, meanprops={'marker':'+', 'markeredgecolor':'k'}, width=0.5, ax=of_ax[0][1])\n",
    "of_ax[0][1].annotate(s=r'$p = 0.06$', xy=(90, 125), xycoords='axes points', xytext=(-21.2, 7), textcoords='offset points', arrowprops=dict(arrowstyle='-[, widthB=4.5, lengthB=.2', lw=1.5, color='k'), fontsize = 10)\n",
    "of_ax[0][1].set_ylabel('Count')\n",
    "of_ax[0][1].title.set_text('Crosses')\n",
    "of_ax[0][1].set_ylim([30, 150])\n",
    "sns.boxplot(data= of_raw, x='Genotype', y='Time_Center(%)', palette=['forestgreen', 'royalblue'], showmeans=True, meanprops={'marker':'+', 'markeredgecolor':'k'}, width=0.5, ax=of_ax[0][2])\n",
    "of_ax[0][2].annotate(s='n.s', xy=(90, 125), xycoords='axes points', xytext=(-7.5, 7), textcoords='offset points', arrowprops=dict(arrowstyle='-[, widthB=4.5, lengthB=.2', lw=1.5, color='k'), fontsize = 10)\n",
    "of_ax[0][2].set_ylabel('Time (%)')\n",
    "of_ax[0][2].title.set_text('Time in Center')\n",
    "of_ax[0][2].set_ylim([0, 50])\n",
    "sns.boxplot(data= of_raw, x='Genotype', y='Resting_Time_Total', palette=['forestgreen', 'royalblue'], showmeans=True, meanprops={'marker':'+', 'markeredgecolor':'k'}, width=0.5, ax=of_ax[1][0])\n",
    "of_ax[1][0].annotate(s='*', xy=(90, 132), xycoords='axes points', xytext=(-2.5, 4), textcoords='offset points', arrowprops=dict(arrowstyle='-[, widthB=4.5, lengthB=.2', lw=1.5, color='k'), fontsize = 10)\n",
    "of_ax[1][0].set_ylabel('Seconds')\n",
    "of_ax[1][0].title.set_text('Immobility')\n",
    "of_ax[1][0].set_ylim([0, 100])\n",
    "sns.boxplot(data= of_raw, x='Genotype', y='Mean_Speed', palette=['forestgreen', 'royalblue'], showmeans=True, meanprops={'marker':'+', 'markeredgecolor':'k'}, width=0.5, ax=of_ax[1][1])\n",
    "of_ax[1][1].annotate(s='**', xy=(90, 132), xycoords='axes points', xytext=(-5, 4), textcoords='offset points', arrowprops=dict(arrowstyle='-[, widthB=4.5, lengthB=.2', lw=1.5, color='k'), fontsize = 10)\n",
    "of_ax[1][1].set_ylabel('m/s')\n",
    "of_ax[1][1].title.set_text('Mean Speed')\n",
    "of_ax[1][1].set_ylim([5, 20])\n",
    "sns.boxplot(data= of_raw, x='Genotype', y='Max_Speed', palette=['forestgreen', 'royalblue'], showmeans=True, meanprops={'marker':'+', 'markeredgecolor':'k'}, width=0.5, ax=of_ax[1][2])\n",
    "of_ax[1][2].annotate(s='**', xy=(90, 132), xycoords='axes points', xytext=(-5, 4), textcoords='offset points', arrowprops=dict(arrowstyle='-[, widthB=4.5, lengthB=.2', lw=1.5, color='k'), fontsize = 10)\n",
    "of_ax[1][2].set_ylabel('m/s')\n",
    "of_ax[1][2].title.set_text('Max Speed')\n",
    "of_ax[1][2].set_ylim([30, 75])\n",
    "plt.tight_layout(rect=[0, 0.03, 1, 1])\n"
   ]
  },
  {
   "cell_type": "markdown",
   "metadata": {},
   "source": [
    "## Social Interaction"
   ]
  },
  {
   "cell_type": "markdown",
   "metadata": {},
   "source": [
    "### Same approach"
   ]
  },
  {
   "cell_type": "code",
   "execution_count": 220,
   "metadata": {},
   "outputs": [],
   "source": [
    "si_raw = pd.read_csv('/Users/labc02/Documents/PDCB_data/Behavior/Social Interaction/Social_Interaction_data.csv')"
   ]
  },
  {
   "cell_type": "code",
   "execution_count": 244,
   "metadata": {},
   "outputs": [],
   "source": [
    "si_clean = si_raw[si_raw['Phase']== 'Sample']"
   ]
  },
  {
   "cell_type": "code",
   "execution_count": 245,
   "metadata": {},
   "outputs": [
    {
     "name": "stderr",
     "output_type": "stream",
     "text": [
      "/opt/miniconda3/envs/databs/lib/python3.8/site-packages/pandas/core/frame.py:4125: SettingWithCopyWarning: \n",
      "A value is trying to be set on a copy of a slice from a DataFrame\n",
      "\n",
      "See the caveats in the documentation: https://pandas.pydata.org/pandas-docs/stable/user_guide/indexing.html#returning-a-view-versus-a-copy\n",
      "  return super().rename(\n"
     ]
    }
   ],
   "source": [
    "si_clean.rename(columns={'Time Object/New Cons Chamber':'Time_Object', 'Time Conspecific Chamber': 'Time_Conspecific', 'Total Exploration': 'Total'}, inplace = True)"
   ]
  },
  {
   "cell_type": "code",
   "execution_count": 259,
   "metadata": {},
   "outputs": [
    {
     "name": "stderr",
     "output_type": "stream",
     "text": [
      "<ipython-input-259-50c93a3af3ab>:1: SettingWithCopyWarning: \n",
      "A value is trying to be set on a copy of a slice from a DataFrame.\n",
      "Try using .loc[row_indexer,col_indexer] = value instead\n",
      "\n",
      "See the caveats in the documentation: https://pandas.pydata.org/pandas-docs/stable/user_guide/indexing.html#returning-a-view-versus-a-copy\n",
      "  si_clean['Sociability']=((si_clean['Time_Conspecific']-si_clean['Time_Object'])/si_clean['Total']).round(2)\n"
     ]
    }
   ],
   "source": [
    "si_clean['Sociability']=((si_clean['Time_Conspecific']-si_clean['Time_Object'])/si_clean['Total']).round(2)"
   ]
  },
  {
   "cell_type": "code",
   "execution_count": 269,
   "metadata": {},
   "outputs": [
    {
     "name": "stdout",
     "output_type": "stream",
     "text": [
      "Normality test (Shapiro), Time_Object\n",
      "            W      pval  normal\n",
      "KOF  0.944423  0.516654    True\n",
      "KOM  0.720208  0.000891   False\n",
      "WTF  0.917846  0.301104    True\n",
      "WTM  0.914444  0.275046    True\n",
      "Normality test (Shapiro), Time_Conspecific\n",
      "            W      pval  normal\n",
      "KOF  0.928938  0.330071    True\n",
      "KOM  0.924065  0.284459    True\n",
      "WTF  0.948646  0.626702    True\n",
      "WTM  0.861803  0.060766    True\n",
      "Normality test (Shapiro), Total\n",
      "            W      pval  normal\n",
      "KOF  0.945061  0.525663    True\n",
      "KOM  0.808731  0.008671   False\n",
      "WTF  0.930491  0.415843    True\n",
      "WTM  0.854802  0.049291   False\n",
      "Normality test (Shapiro), Sociability\n",
      "            W      pval  normal\n",
      "KOF  0.910304  0.185149    True\n",
      "KOM  0.899231  0.130518    True\n",
      "WTF  0.899152  0.180488    True\n",
      "WTM  0.872061  0.082392    True\n"
     ]
    }
   ],
   "source": [
    "for var_ in ['Time_Object', 'Time_Conspecific', 'Total', 'Sociability']:\n",
    "    print(f'Normality test (Shapiro), {var_}')\n",
    "    print(pg.normality(data=si_clean, dv=var_, group='Group'))"
   ]
  },
  {
   "cell_type": "markdown",
   "metadata": {},
   "source": [
    "Removing outliers; mad-median rule"
   ]
  },
  {
   "cell_type": "code",
   "execution_count": 296,
   "metadata": {},
   "outputs": [],
   "source": [
    "si_tidy, si_out = detec_outlier(si_clean, ['Time_Object', 'Time_Conspecific', 'Total'], 'Group')"
   ]
  },
  {
   "cell_type": "code",
   "execution_count": 297,
   "metadata": {},
   "outputs": [
    {
     "data": {
      "text/plain": [
       "{16, 17, 27}"
      ]
     },
     "execution_count": 297,
     "metadata": {},
     "output_type": "execute_result"
    }
   ],
   "source": [
    "si_out"
   ]
  },
  {
   "cell_type": "markdown",
   "metadata": {},
   "source": [
    "#### Re-check normality"
   ]
  },
  {
   "cell_type": "code",
   "execution_count": 298,
   "metadata": {},
   "outputs": [
    {
     "name": "stdout",
     "output_type": "stream",
     "text": [
      "Normality test (Shapiro), Time_Object\n",
      "            W      pval  normal\n",
      "KOF  0.944423  0.516654    True\n",
      "KOM  0.720208  0.000891   False\n",
      "WTF  0.932327  0.503818    True\n",
      "WTM  0.915961  0.324495    True\n",
      "Normality test (Shapiro), Time_Conspecific\n",
      "            W      pval  normal\n",
      "KOF  0.928938  0.330071    True\n",
      "KOM  0.924065  0.284459    True\n",
      "WTF  0.913419  0.340545    True\n",
      "WTM  0.870907  0.102427    True\n",
      "Normality test (Shapiro), Total\n",
      "            W      pval  normal\n",
      "KOF  0.945061  0.525663    True\n",
      "KOM  0.808731  0.008671   False\n",
      "WTF  0.906996  0.295413    True\n",
      "WTM  0.865938  0.089615    True\n"
     ]
    }
   ],
   "source": [
    "for var_ in ['Time_Object', 'Time_Conspecific', 'Total']:\n",
    "    print(f'Normality test (Shapiro), {var_}')\n",
    "    print(pg.normality(data=si_tidy, dv=var_, group='Group'))"
   ]
  },
  {
   "cell_type": "markdown",
   "metadata": {},
   "source": [
    "#### Check homoscedasticity"
   ]
  },
  {
   "cell_type": "code",
   "execution_count": 273,
   "metadata": {},
   "outputs": [
    {
     "name": "stdout",
     "output_type": "stream",
     "text": [
      "Normality test (Levene), Time_Object\n",
      "               W      pval  equal_var\n",
      "levene  0.271032  0.845913       True\n",
      "Normality test (Levene), Time_Conspecific\n",
      "               W      pval  equal_var\n",
      "levene  0.082668  0.969098       True\n",
      "Normality test (Levene), Total\n",
      "               W      pval  equal_var\n",
      "levene  1.135228  0.346136       True\n"
     ]
    }
   ],
   "source": [
    "for var_ in ['Time_Object', 'Time_Conspecific', 'Total']:\n",
    "    print(f'Normality test (Levene), {var_}')\n",
    "    print(pg.homoscedasticity(data=si_tidy, dv=var_, group='Group'))"
   ]
  },
  {
   "cell_type": "code",
   "execution_count": 274,
   "metadata": {},
   "outputs": [
    {
     "data": {
      "text/html": [
       "<div>\n",
       "<style scoped>\n",
       "    .dataframe tbody tr th:only-of-type {\n",
       "        vertical-align: middle;\n",
       "    }\n",
       "\n",
       "    .dataframe tbody tr th {\n",
       "        vertical-align: top;\n",
       "    }\n",
       "\n",
       "    .dataframe thead th {\n",
       "        text-align: right;\n",
       "    }\n",
       "</style>\n",
       "<table border=\"1\" class=\"dataframe\">\n",
       "  <thead>\n",
       "    <tr style=\"text-align: right;\">\n",
       "      <th></th>\n",
       "      <th>W</th>\n",
       "      <th>pval</th>\n",
       "      <th>equal_var</th>\n",
       "    </tr>\n",
       "  </thead>\n",
       "  <tbody>\n",
       "    <tr>\n",
       "      <th>levene</th>\n",
       "      <td>0.501446</td>\n",
       "      <td>0.68324</td>\n",
       "      <td>True</td>\n",
       "    </tr>\n",
       "  </tbody>\n",
       "</table>\n",
       "</div>"
      ],
      "text/plain": [
       "               W     pval  equal_var\n",
       "levene  0.501446  0.68324       True"
      ]
     },
     "execution_count": 274,
     "metadata": {},
     "output_type": "execute_result"
    }
   ],
   "source": [
    "pg.homoscedasticity(data = si_clean, dv='Sociability', group='Group')"
   ]
  },
  {
   "cell_type": "code",
   "execution_count": 254,
   "metadata": {},
   "outputs": [],
   "source": [
    "samp_time = pd.melt(si_tidy, id_vars=['Subject', 'Group', 'Sex', 'Genotype'], value_vars=['Time_Object', 'Time_Conspecific'], var_name='Side', value_name='Time')"
   ]
  },
  {
   "cell_type": "code",
   "execution_count": 255,
   "metadata": {},
   "outputs": [
    {
     "data": {
      "text/html": [
       "<div>\n",
       "<style scoped>\n",
       "    .dataframe tbody tr th:only-of-type {\n",
       "        vertical-align: middle;\n",
       "    }\n",
       "\n",
       "    .dataframe tbody tr th {\n",
       "        vertical-align: top;\n",
       "    }\n",
       "\n",
       "    .dataframe thead th {\n",
       "        text-align: right;\n",
       "    }\n",
       "</style>\n",
       "<table border=\"1\" class=\"dataframe\">\n",
       "  <thead>\n",
       "    <tr style=\"text-align: right;\">\n",
       "      <th></th>\n",
       "      <th>Source</th>\n",
       "      <th>SS</th>\n",
       "      <th>DF</th>\n",
       "      <th>MS</th>\n",
       "      <th>F</th>\n",
       "      <th>p-unc</th>\n",
       "      <th>np2</th>\n",
       "    </tr>\n",
       "  </thead>\n",
       "  <tbody>\n",
       "    <tr>\n",
       "      <th>0</th>\n",
       "      <td>Sex</td>\n",
       "      <td>55.744638</td>\n",
       "      <td>1.0</td>\n",
       "      <td>55.744638</td>\n",
       "      <td>0.089515</td>\n",
       "      <td>7.655515e-01</td>\n",
       "      <td>0.001090</td>\n",
       "    </tr>\n",
       "    <tr>\n",
       "      <th>1</th>\n",
       "      <td>Genotype</td>\n",
       "      <td>634.704380</td>\n",
       "      <td>1.0</td>\n",
       "      <td>634.704380</td>\n",
       "      <td>1.019212</td>\n",
       "      <td>3.156757e-01</td>\n",
       "      <td>0.012277</td>\n",
       "    </tr>\n",
       "    <tr>\n",
       "      <th>2</th>\n",
       "      <td>Side</td>\n",
       "      <td>64695.211111</td>\n",
       "      <td>1.0</td>\n",
       "      <td>64695.211111</td>\n",
       "      <td>103.887972</td>\n",
       "      <td>3.112617e-16</td>\n",
       "      <td>0.558874</td>\n",
       "    </tr>\n",
       "    <tr>\n",
       "      <th>3</th>\n",
       "      <td>Sex * Genotype</td>\n",
       "      <td>679.576617</td>\n",
       "      <td>1.0</td>\n",
       "      <td>679.576617</td>\n",
       "      <td>1.091268</td>\n",
       "      <td>2.992602e-01</td>\n",
       "      <td>0.013133</td>\n",
       "    </tr>\n",
       "    <tr>\n",
       "      <th>4</th>\n",
       "      <td>Sex * Side</td>\n",
       "      <td>2829.837575</td>\n",
       "      <td>1.0</td>\n",
       "      <td>2829.837575</td>\n",
       "      <td>4.544171</td>\n",
       "      <td>3.602413e-02</td>\n",
       "      <td>0.052507</td>\n",
       "    </tr>\n",
       "    <tr>\n",
       "      <th>5</th>\n",
       "      <td>Genotype * Side</td>\n",
       "      <td>7476.996082</td>\n",
       "      <td>1.0</td>\n",
       "      <td>7476.996082</td>\n",
       "      <td>12.006607</td>\n",
       "      <td>8.459430e-04</td>\n",
       "      <td>0.127721</td>\n",
       "    </tr>\n",
       "    <tr>\n",
       "      <th>6</th>\n",
       "      <td>Sex * Genotype * Side</td>\n",
       "      <td>4362.746028</td>\n",
       "      <td>1.0</td>\n",
       "      <td>4362.746028</td>\n",
       "      <td>7.005725</td>\n",
       "      <td>9.739712e-03</td>\n",
       "      <td>0.078711</td>\n",
       "    </tr>\n",
       "    <tr>\n",
       "      <th>7</th>\n",
       "      <td>Residual</td>\n",
       "      <td>51064.692308</td>\n",
       "      <td>82.0</td>\n",
       "      <td>622.740150</td>\n",
       "      <td>NaN</td>\n",
       "      <td>NaN</td>\n",
       "      <td>NaN</td>\n",
       "    </tr>\n",
       "  </tbody>\n",
       "</table>\n",
       "</div>"
      ],
      "text/plain": [
       "                  Source            SS    DF            MS           F  \\\n",
       "0                    Sex     55.744638   1.0     55.744638    0.089515   \n",
       "1               Genotype    634.704380   1.0    634.704380    1.019212   \n",
       "2                   Side  64695.211111   1.0  64695.211111  103.887972   \n",
       "3         Sex * Genotype    679.576617   1.0    679.576617    1.091268   \n",
       "4             Sex * Side   2829.837575   1.0   2829.837575    4.544171   \n",
       "5        Genotype * Side   7476.996082   1.0   7476.996082   12.006607   \n",
       "6  Sex * Genotype * Side   4362.746028   1.0   4362.746028    7.005725   \n",
       "7               Residual  51064.692308  82.0    622.740150         NaN   \n",
       "\n",
       "          p-unc       np2  \n",
       "0  7.655515e-01  0.001090  \n",
       "1  3.156757e-01  0.012277  \n",
       "2  3.112617e-16  0.558874  \n",
       "3  2.992602e-01  0.013133  \n",
       "4  3.602413e-02  0.052507  \n",
       "5  8.459430e-04  0.127721  \n",
       "6  9.739712e-03  0.078711  \n",
       "7           NaN       NaN  "
      ]
     },
     "execution_count": 255,
     "metadata": {},
     "output_type": "execute_result"
    }
   ],
   "source": [
    "pg.anova(data=samp_time, dv='Time', between=['Sex', 'Genotype', 'Side'])"
   ]
  },
  {
   "cell_type": "markdown",
   "metadata": {},
   "source": [
    "### Geting complicated\n",
    "\n",
    "Neither Sex or Genotype is a factor on their own, but side does. But the interaction Sex * Side IS significant. Genotype * Side IS ALSO significant.\n",
    "\n",
    "There's sexual dimorfism in social interaction."
   ]
  },
  {
   "cell_type": "code",
   "execution_count": 263,
   "metadata": {},
   "outputs": [
    {
     "data": {
      "text/html": [
       "<div>\n",
       "<style scoped>\n",
       "    .dataframe tbody tr th:only-of-type {\n",
       "        vertical-align: middle;\n",
       "    }\n",
       "\n",
       "    .dataframe tbody tr th {\n",
       "        vertical-align: top;\n",
       "    }\n",
       "\n",
       "    .dataframe thead th {\n",
       "        text-align: right;\n",
       "    }\n",
       "</style>\n",
       "<table border=\"1\" class=\"dataframe\">\n",
       "  <thead>\n",
       "    <tr style=\"text-align: right;\">\n",
       "      <th></th>\n",
       "      <th>Source</th>\n",
       "      <th>SS</th>\n",
       "      <th>DF</th>\n",
       "      <th>MS</th>\n",
       "      <th>F</th>\n",
       "      <th>p-unc</th>\n",
       "      <th>np2</th>\n",
       "    </tr>\n",
       "  </thead>\n",
       "  <tbody>\n",
       "    <tr>\n",
       "      <th>0</th>\n",
       "      <td>Sex</td>\n",
       "      <td>111.489276</td>\n",
       "      <td>1.0</td>\n",
       "      <td>111.489276</td>\n",
       "      <td>0.217471</td>\n",
       "      <td>0.643442</td>\n",
       "      <td>0.005276</td>\n",
       "    </tr>\n",
       "    <tr>\n",
       "      <th>1</th>\n",
       "      <td>Genotype</td>\n",
       "      <td>1269.408761</td>\n",
       "      <td>1.0</td>\n",
       "      <td>1269.408761</td>\n",
       "      <td>2.476109</td>\n",
       "      <td>0.123274</td>\n",
       "      <td>0.056953</td>\n",
       "    </tr>\n",
       "    <tr>\n",
       "      <th>2</th>\n",
       "      <td>Sex * Genotype</td>\n",
       "      <td>1359.153234</td>\n",
       "      <td>1.0</td>\n",
       "      <td>1359.153234</td>\n",
       "      <td>2.651165</td>\n",
       "      <td>0.111135</td>\n",
       "      <td>0.060735</td>\n",
       "    </tr>\n",
       "    <tr>\n",
       "      <th>3</th>\n",
       "      <td>Residual</td>\n",
       "      <td>21019.169231</td>\n",
       "      <td>41.0</td>\n",
       "      <td>512.662664</td>\n",
       "      <td>NaN</td>\n",
       "      <td>NaN</td>\n",
       "      <td>NaN</td>\n",
       "    </tr>\n",
       "  </tbody>\n",
       "</table>\n",
       "</div>"
      ],
      "text/plain": [
       "           Source            SS    DF           MS         F     p-unc  \\\n",
       "0             Sex    111.489276   1.0   111.489276  0.217471  0.643442   \n",
       "1        Genotype   1269.408761   1.0  1269.408761  2.476109  0.123274   \n",
       "2  Sex * Genotype   1359.153234   1.0  1359.153234  2.651165  0.111135   \n",
       "3        Residual  21019.169231  41.0   512.662664       NaN       NaN   \n",
       "\n",
       "        np2  \n",
       "0  0.005276  \n",
       "1  0.056953  \n",
       "2  0.060735  \n",
       "3       NaN  "
      ]
     },
     "execution_count": 263,
     "metadata": {},
     "output_type": "execute_result"
    }
   ],
   "source": [
    "pg.anova(data=si_tidy, dv='Total', between=['Sex', 'Genotype'])"
   ]
  },
  {
   "cell_type": "markdown",
   "metadata": {},
   "source": [
    "There's no difference in the total time spent exploring both stimuli chambers."
   ]
  },
  {
   "cell_type": "code",
   "execution_count": 268,
   "metadata": {},
   "outputs": [
    {
     "data": {
      "text/html": [
       "<div>\n",
       "<style scoped>\n",
       "    .dataframe tbody tr th:only-of-type {\n",
       "        vertical-align: middle;\n",
       "    }\n",
       "\n",
       "    .dataframe tbody tr th {\n",
       "        vertical-align: top;\n",
       "    }\n",
       "\n",
       "    .dataframe thead th {\n",
       "        text-align: right;\n",
       "    }\n",
       "</style>\n",
       "<table border=\"1\" class=\"dataframe\">\n",
       "  <thead>\n",
       "    <tr style=\"text-align: right;\">\n",
       "      <th></th>\n",
       "      <th>Contrast</th>\n",
       "      <th>Group</th>\n",
       "      <th>A</th>\n",
       "      <th>B</th>\n",
       "      <th>Paired</th>\n",
       "      <th>Parametric</th>\n",
       "      <th>T</th>\n",
       "      <th>dof</th>\n",
       "      <th>Tail</th>\n",
       "      <th>p-unc</th>\n",
       "      <th>p-corr</th>\n",
       "      <th>p-adjust</th>\n",
       "      <th>BF10</th>\n",
       "      <th>hedges</th>\n",
       "    </tr>\n",
       "  </thead>\n",
       "  <tbody>\n",
       "    <tr>\n",
       "      <th>0</th>\n",
       "      <td>Group</td>\n",
       "      <td>-</td>\n",
       "      <td>KOF</td>\n",
       "      <td>KOM</td>\n",
       "      <td>False</td>\n",
       "      <td>True</td>\n",
       "      <td>-0.509550</td>\n",
       "      <td>50.000000</td>\n",
       "      <td>two-sided</td>\n",
       "      <td>6.126084e-01</td>\n",
       "      <td>1.000000e+00</td>\n",
       "      <td>holm</td>\n",
       "      <td>0.31</td>\n",
       "      <td>-0.139193</td>\n",
       "    </tr>\n",
       "    <tr>\n",
       "      <th>1</th>\n",
       "      <td>Group</td>\n",
       "      <td>-</td>\n",
       "      <td>KOF</td>\n",
       "      <td>WTF</td>\n",
       "      <td>False</td>\n",
       "      <td>True</td>\n",
       "      <td>-0.041624</td>\n",
       "      <td>38.139999</td>\n",
       "      <td>two-sided</td>\n",
       "      <td>9.670155e-01</td>\n",
       "      <td>1.000000e+00</td>\n",
       "      <td>holm</td>\n",
       "      <td>0.302</td>\n",
       "      <td>-0.012391</td>\n",
       "    </tr>\n",
       "    <tr>\n",
       "      <th>2</th>\n",
       "      <td>Group</td>\n",
       "      <td>-</td>\n",
       "      <td>KOF</td>\n",
       "      <td>WTM</td>\n",
       "      <td>False</td>\n",
       "      <td>True</td>\n",
       "      <td>0.495513</td>\n",
       "      <td>39.188946</td>\n",
       "      <td>two-sided</td>\n",
       "      <td>6.230051e-01</td>\n",
       "      <td>1.000000e+00</td>\n",
       "      <td>holm</td>\n",
       "      <td>0.325</td>\n",
       "      <td>0.146456</td>\n",
       "    </tr>\n",
       "    <tr>\n",
       "      <th>3</th>\n",
       "      <td>Group</td>\n",
       "      <td>-</td>\n",
       "      <td>KOM</td>\n",
       "      <td>WTF</td>\n",
       "      <td>False</td>\n",
       "      <td>True</td>\n",
       "      <td>0.466611</td>\n",
       "      <td>38.640635</td>\n",
       "      <td>two-sided</td>\n",
       "      <td>6.433985e-01</td>\n",
       "      <td>1.000000e+00</td>\n",
       "      <td>holm</td>\n",
       "      <td>0.329</td>\n",
       "      <td>0.125430</td>\n",
       "    </tr>\n",
       "    <tr>\n",
       "      <th>4</th>\n",
       "      <td>Group</td>\n",
       "      <td>-</td>\n",
       "      <td>KOM</td>\n",
       "      <td>WTM</td>\n",
       "      <td>False</td>\n",
       "      <td>True</td>\n",
       "      <td>0.829447</td>\n",
       "      <td>40.955238</td>\n",
       "      <td>two-sided</td>\n",
       "      <td>4.116598e-01</td>\n",
       "      <td>1.000000e+00</td>\n",
       "      <td>holm</td>\n",
       "      <td>0.389</td>\n",
       "      <td>0.226525</td>\n",
       "    </tr>\n",
       "    <tr>\n",
       "      <th>5</th>\n",
       "      <td>Group</td>\n",
       "      <td>-</td>\n",
       "      <td>WTF</td>\n",
       "      <td>WTM</td>\n",
       "      <td>False</td>\n",
       "      <td>True</td>\n",
       "      <td>0.507891</td>\n",
       "      <td>35.954031</td>\n",
       "      <td>two-sided</td>\n",
       "      <td>6.146318e-01</td>\n",
       "      <td>1.000000e+00</td>\n",
       "      <td>holm</td>\n",
       "      <td>0.349</td>\n",
       "      <td>0.160302</td>\n",
       "    </tr>\n",
       "    <tr>\n",
       "      <th>6</th>\n",
       "      <td>Side</td>\n",
       "      <td>-</td>\n",
       "      <td>Time_Object</td>\n",
       "      <td>Time_Conspecific</td>\n",
       "      <td>False</td>\n",
       "      <td>True</td>\n",
       "      <td>-9.227538</td>\n",
       "      <td>88.000000</td>\n",
       "      <td>two-sided</td>\n",
       "      <td>1.395278e-14</td>\n",
       "      <td>NaN</td>\n",
       "      <td>NaN</td>\n",
       "      <td>3.457e+11</td>\n",
       "      <td>-1.928709</td>\n",
       "    </tr>\n",
       "    <tr>\n",
       "      <th>7</th>\n",
       "      <td>Group * Side</td>\n",
       "      <td>KOF</td>\n",
       "      <td>Time_Object</td>\n",
       "      <td>Time_Conspecific</td>\n",
       "      <td>False</td>\n",
       "      <td>True</td>\n",
       "      <td>-6.583392</td>\n",
       "      <td>24.000000</td>\n",
       "      <td>two-sided</td>\n",
       "      <td>8.266910e-07</td>\n",
       "      <td>2.480073e-06</td>\n",
       "      <td>holm</td>\n",
       "      <td>1.363e+04</td>\n",
       "      <td>-2.500675</td>\n",
       "    </tr>\n",
       "    <tr>\n",
       "      <th>8</th>\n",
       "      <td>Group * Side</td>\n",
       "      <td>KOM</td>\n",
       "      <td>Time_Object</td>\n",
       "      <td>Time_Conspecific</td>\n",
       "      <td>False</td>\n",
       "      <td>True</td>\n",
       "      <td>-7.743316</td>\n",
       "      <td>24.000000</td>\n",
       "      <td>two-sided</td>\n",
       "      <td>5.593512e-08</td>\n",
       "      <td>2.237405e-07</td>\n",
       "      <td>holm</td>\n",
       "      <td>1.56e+05</td>\n",
       "      <td>-2.941268</td>\n",
       "    </tr>\n",
       "    <tr>\n",
       "      <th>9</th>\n",
       "      <td>Group * Side</td>\n",
       "      <td>WTF</td>\n",
       "      <td>Time_Object</td>\n",
       "      <td>Time_Conspecific</td>\n",
       "      <td>False</td>\n",
       "      <td>True</td>\n",
       "      <td>-4.072727</td>\n",
       "      <td>16.000000</td>\n",
       "      <td>two-sided</td>\n",
       "      <td>8.858152e-04</td>\n",
       "      <td>1.771630e-03</td>\n",
       "      <td>holm</td>\n",
       "      <td>32.679</td>\n",
       "      <td>-1.828478</td>\n",
       "    </tr>\n",
       "    <tr>\n",
       "      <th>10</th>\n",
       "      <td>Group * Side</td>\n",
       "      <td>WTM</td>\n",
       "      <td>Time_Object</td>\n",
       "      <td>Time_Conspecific</td>\n",
       "      <td>False</td>\n",
       "      <td>True</td>\n",
       "      <td>-2.141067</td>\n",
       "      <td>18.000000</td>\n",
       "      <td>two-sided</td>\n",
       "      <td>4.620482e-02</td>\n",
       "      <td>4.620482e-02</td>\n",
       "      <td>holm</td>\n",
       "      <td>1.791</td>\n",
       "      <td>-0.917056</td>\n",
       "    </tr>\n",
       "  </tbody>\n",
       "</table>\n",
       "</div>"
      ],
      "text/plain": [
       "        Contrast Group            A                 B Paired  Parametric  \\\n",
       "0          Group     -          KOF               KOM  False        True   \n",
       "1          Group     -          KOF               WTF  False        True   \n",
       "2          Group     -          KOF               WTM  False        True   \n",
       "3          Group     -          KOM               WTF  False        True   \n",
       "4          Group     -          KOM               WTM  False        True   \n",
       "5          Group     -          WTF               WTM  False        True   \n",
       "6           Side     -  Time_Object  Time_Conspecific  False        True   \n",
       "7   Group * Side   KOF  Time_Object  Time_Conspecific  False        True   \n",
       "8   Group * Side   KOM  Time_Object  Time_Conspecific  False        True   \n",
       "9   Group * Side   WTF  Time_Object  Time_Conspecific  False        True   \n",
       "10  Group * Side   WTM  Time_Object  Time_Conspecific  False        True   \n",
       "\n",
       "           T        dof       Tail         p-unc        p-corr p-adjust  \\\n",
       "0  -0.509550  50.000000  two-sided  6.126084e-01  1.000000e+00     holm   \n",
       "1  -0.041624  38.139999  two-sided  9.670155e-01  1.000000e+00     holm   \n",
       "2   0.495513  39.188946  two-sided  6.230051e-01  1.000000e+00     holm   \n",
       "3   0.466611  38.640635  two-sided  6.433985e-01  1.000000e+00     holm   \n",
       "4   0.829447  40.955238  two-sided  4.116598e-01  1.000000e+00     holm   \n",
       "5   0.507891  35.954031  two-sided  6.146318e-01  1.000000e+00     holm   \n",
       "6  -9.227538  88.000000  two-sided  1.395278e-14           NaN      NaN   \n",
       "7  -6.583392  24.000000  two-sided  8.266910e-07  2.480073e-06     holm   \n",
       "8  -7.743316  24.000000  two-sided  5.593512e-08  2.237405e-07     holm   \n",
       "9  -4.072727  16.000000  two-sided  8.858152e-04  1.771630e-03     holm   \n",
       "10 -2.141067  18.000000  two-sided  4.620482e-02  4.620482e-02     holm   \n",
       "\n",
       "         BF10    hedges  \n",
       "0        0.31 -0.139193  \n",
       "1       0.302 -0.012391  \n",
       "2       0.325  0.146456  \n",
       "3       0.329  0.125430  \n",
       "4       0.389  0.226525  \n",
       "5       0.349  0.160302  \n",
       "6   3.457e+11 -1.928709  \n",
       "7   1.363e+04 -2.500675  \n",
       "8    1.56e+05 -2.941268  \n",
       "9      32.679 -1.828478  \n",
       "10      1.791 -0.917056  "
      ]
     },
     "execution_count": 268,
     "metadata": {},
     "output_type": "execute_result"
    }
   ],
   "source": [
    "pg.pairwise_ttests(samp_time, dv='Time', between=['Group', 'Side'], padjust='holm')"
   ]
  },
  {
   "cell_type": "markdown",
   "metadata": {},
   "source": [
    "All groups show a preference for the Social Side"
   ]
  },
  {
   "cell_type": "code",
   "execution_count": 276,
   "metadata": {},
   "outputs": [
    {
     "data": {
      "text/html": [
       "<div>\n",
       "<style scoped>\n",
       "    .dataframe tbody tr th:only-of-type {\n",
       "        vertical-align: middle;\n",
       "    }\n",
       "\n",
       "    .dataframe tbody tr th {\n",
       "        vertical-align: top;\n",
       "    }\n",
       "\n",
       "    .dataframe thead th {\n",
       "        text-align: right;\n",
       "    }\n",
       "</style>\n",
       "<table border=\"1\" class=\"dataframe\">\n",
       "  <thead>\n",
       "    <tr style=\"text-align: right;\">\n",
       "      <th></th>\n",
       "      <th>Source</th>\n",
       "      <th>SS</th>\n",
       "      <th>DF</th>\n",
       "      <th>MS</th>\n",
       "      <th>F</th>\n",
       "      <th>p-unc</th>\n",
       "      <th>np2</th>\n",
       "    </tr>\n",
       "  </thead>\n",
       "  <tbody>\n",
       "    <tr>\n",
       "      <th>0</th>\n",
       "      <td>Sex</td>\n",
       "      <td>0.097200</td>\n",
       "      <td>1.0</td>\n",
       "      <td>0.097200</td>\n",
       "      <td>3.013187</td>\n",
       "      <td>0.089589</td>\n",
       "      <td>0.064092</td>\n",
       "    </tr>\n",
       "    <tr>\n",
       "      <th>1</th>\n",
       "      <td>Genotype</td>\n",
       "      <td>0.200310</td>\n",
       "      <td>1.0</td>\n",
       "      <td>0.200310</td>\n",
       "      <td>6.209577</td>\n",
       "      <td>0.016547</td>\n",
       "      <td>0.123673</td>\n",
       "    </tr>\n",
       "    <tr>\n",
       "      <th>2</th>\n",
       "      <td>Sex * Genotype</td>\n",
       "      <td>0.129029</td>\n",
       "      <td>1.0</td>\n",
       "      <td>0.129029</td>\n",
       "      <td>3.999894</td>\n",
       "      <td>0.051700</td>\n",
       "      <td>0.083331</td>\n",
       "    </tr>\n",
       "    <tr>\n",
       "      <th>3</th>\n",
       "      <td>Residual</td>\n",
       "      <td>1.419361</td>\n",
       "      <td>44.0</td>\n",
       "      <td>0.032258</td>\n",
       "      <td>NaN</td>\n",
       "      <td>NaN</td>\n",
       "      <td>NaN</td>\n",
       "    </tr>\n",
       "  </tbody>\n",
       "</table>\n",
       "</div>"
      ],
      "text/plain": [
       "           Source        SS    DF        MS         F     p-unc       np2\n",
       "0             Sex  0.097200   1.0  0.097200  3.013187  0.089589  0.064092\n",
       "1        Genotype  0.200310   1.0  0.200310  6.209577  0.016547  0.123673\n",
       "2  Sex * Genotype  0.129029   1.0  0.129029  3.999894  0.051700  0.083331\n",
       "3        Residual  1.419361  44.0  0.032258       NaN       NaN       NaN"
      ]
     },
     "execution_count": 276,
     "metadata": {},
     "output_type": "execute_result"
    }
   ],
   "source": [
    "pg.anova(data=si_clean, dv='Sociability', between=['Sex', 'Genotype'])"
   ]
  },
  {
   "cell_type": "code",
   "execution_count": 277,
   "metadata": {},
   "outputs": [
    {
     "data": {
      "text/html": [
       "<div>\n",
       "<style scoped>\n",
       "    .dataframe tbody tr th:only-of-type {\n",
       "        vertical-align: middle;\n",
       "    }\n",
       "\n",
       "    .dataframe tbody tr th {\n",
       "        vertical-align: top;\n",
       "    }\n",
       "\n",
       "    .dataframe thead th {\n",
       "        text-align: right;\n",
       "    }\n",
       "</style>\n",
       "<table border=\"1\" class=\"dataframe\">\n",
       "  <thead>\n",
       "    <tr style=\"text-align: right;\">\n",
       "      <th></th>\n",
       "      <th>A</th>\n",
       "      <th>B</th>\n",
       "      <th>mean(A)</th>\n",
       "      <th>mean(B)</th>\n",
       "      <th>diff</th>\n",
       "      <th>se</th>\n",
       "      <th>tail</th>\n",
       "      <th>T</th>\n",
       "      <th>p-tukey</th>\n",
       "      <th>hedges</th>\n",
       "    </tr>\n",
       "  </thead>\n",
       "  <tbody>\n",
       "    <tr>\n",
       "      <th>0</th>\n",
       "      <td>KOF</td>\n",
       "      <td>KOM</td>\n",
       "      <td>0.189231</td>\n",
       "      <td>0.374615</td>\n",
       "      <td>-0.185385</td>\n",
       "      <td>0.070447</td>\n",
       "      <td>two-sided</td>\n",
       "      <td>-2.631542</td>\n",
       "      <td>0.045702</td>\n",
       "      <td>-0.999581</td>\n",
       "    </tr>\n",
       "    <tr>\n",
       "      <th>1</th>\n",
       "      <td>KOF</td>\n",
       "      <td>WTF</td>\n",
       "      <td>0.189231</td>\n",
       "      <td>0.163636</td>\n",
       "      <td>0.025594</td>\n",
       "      <td>0.073580</td>\n",
       "      <td>two-sided</td>\n",
       "      <td>0.347846</td>\n",
       "      <td>0.900000</td>\n",
       "      <td>0.137589</td>\n",
       "    </tr>\n",
       "    <tr>\n",
       "      <th>2</th>\n",
       "      <td>KOF</td>\n",
       "      <td>WTM</td>\n",
       "      <td>0.189231</td>\n",
       "      <td>0.140909</td>\n",
       "      <td>0.048322</td>\n",
       "      <td>0.073580</td>\n",
       "      <td>two-sided</td>\n",
       "      <td>0.656726</td>\n",
       "      <td>0.900000</td>\n",
       "      <td>0.259766</td>\n",
       "    </tr>\n",
       "    <tr>\n",
       "      <th>3</th>\n",
       "      <td>KOM</td>\n",
       "      <td>WTF</td>\n",
       "      <td>0.374615</td>\n",
       "      <td>0.163636</td>\n",
       "      <td>0.210979</td>\n",
       "      <td>0.073580</td>\n",
       "      <td>two-sided</td>\n",
       "      <td>2.867356</td>\n",
       "      <td>0.023959</td>\n",
       "      <td>1.134173</td>\n",
       "    </tr>\n",
       "    <tr>\n",
       "      <th>4</th>\n",
       "      <td>KOM</td>\n",
       "      <td>WTM</td>\n",
       "      <td>0.374615</td>\n",
       "      <td>0.140909</td>\n",
       "      <td>0.233706</td>\n",
       "      <td>0.073580</td>\n",
       "      <td>two-sided</td>\n",
       "      <td>3.176236</td>\n",
       "      <td>0.009428</td>\n",
       "      <td>1.256349</td>\n",
       "    </tr>\n",
       "    <tr>\n",
       "      <th>5</th>\n",
       "      <td>WTF</td>\n",
       "      <td>WTM</td>\n",
       "      <td>0.163636</td>\n",
       "      <td>0.140909</td>\n",
       "      <td>0.022727</td>\n",
       "      <td>0.076584</td>\n",
       "      <td>two-sided</td>\n",
       "      <td>0.296762</td>\n",
       "      <td>0.900000</td>\n",
       "      <td>0.121735</td>\n",
       "    </tr>\n",
       "  </tbody>\n",
       "</table>\n",
       "</div>"
      ],
      "text/plain": [
       "     A    B   mean(A)   mean(B)      diff        se       tail         T  \\\n",
       "0  KOF  KOM  0.189231  0.374615 -0.185385  0.070447  two-sided -2.631542   \n",
       "1  KOF  WTF  0.189231  0.163636  0.025594  0.073580  two-sided  0.347846   \n",
       "2  KOF  WTM  0.189231  0.140909  0.048322  0.073580  two-sided  0.656726   \n",
       "3  KOM  WTF  0.374615  0.163636  0.210979  0.073580  two-sided  2.867356   \n",
       "4  KOM  WTM  0.374615  0.140909  0.233706  0.073580  two-sided  3.176236   \n",
       "5  WTF  WTM  0.163636  0.140909  0.022727  0.076584  two-sided  0.296762   \n",
       "\n",
       "    p-tukey    hedges  \n",
       "0  0.045702 -0.999581  \n",
       "1  0.900000  0.137589  \n",
       "2  0.900000  0.259766  \n",
       "3  0.023959  1.134173  \n",
       "4  0.009428  1.256349  \n",
       "5  0.900000  0.121735  "
      ]
     },
     "execution_count": 277,
     "metadata": {},
     "output_type": "execute_result"
    }
   ],
   "source": [
    "pg.pairwise_tukey(data=si_clean, dv='Sociability', between='Group')"
   ]
  },
  {
   "cell_type": "code",
   "execution_count": 386,
   "metadata": {},
   "outputs": [
    {
     "data": {
      "image/png": "[encoded data removed]",
      "text/plain": [
       "<Figure size 720x216 with 3 Axes>"
      ]
     },
     "metadata": {
      "needs_background": "light"
     },
     "output_type": "display_data"
    }
   ],
   "source": [
    "si_fig, si_axs = plt.subplots(ncols=3, nrows = 1, figsize = (10, 3))\n",
    "sns.boxplot(data = si_tidy, x='Group', y='Total', ax =si_axs[0], palette=['forestgreen', 'forestgreen', 'royalblue', 'royalblue'], showmeans=True, meanprops={'marker':'+', 'markeredgecolor':'k'}, width=0.5)\n",
    "si_axs[0].title.set_text('Total Exploration Time')\n",
    "si_axs[0].set_ylabel('Sec')\n",
    "sns.boxplot(x='Group', y='Time', hue='Side', data=samp_time, palette=['dimgray', 'white'], showmeans=True, meanprops={'marker':'+', 'markeredgecolor':'k'}, width=0.8, ax=si_axs[1])\n",
    "handles, labels = si_axs[1].get_legend_handles_labels()\n",
    "si_axs[1].set_ylim(25, 250)\n",
    "si_axs[1].legend(handles=handles, labels=['Obj', 'Cons'], frameon=False)\n",
    "si_axs[1].set_ylabel('Time in Chamber (s)')\n",
    "ph_val = zip(['***', '***', '***', '*'], [10,60,105,155], [90, 110, 90, 90])\n",
    "for text, x, y in ph_val:\n",
    "    si_axs[1].annotate(s=text, xy=(x,y), xycoords='axes points', fontsize=10)\n",
    "si_axs[1].title.set_text('Social Choice')\n",
    "sns.boxplot(data=si_clean, x='Group', y='Sociability', palette=['forestgreen', 'forestgreen', 'royalblue', 'royalblue'], width=.5, showmeans=True, meanprops={'marker':'+', 'markeredgecolor':'k'}, ax=si_axs[2])\n",
    "si_axs[2].annotate(s='*', xy=(45, 30), xycoords='axes points', xytext=(0, -15), textcoords='offset points', ha='center',\n",
    "                va='bottom', arrowprops=dict(arrowstyle='-[, widthB=2.5, lengthB=.1', lw=1, color='k'))\n",
    "si_axs[2].annotate(s='*', xy=(90, 48), xycoords='axes points', xytext=(0, -15), textcoords='offset points', ha='center',\n",
    "                va='bottom', arrowprops=dict(arrowstyle='-[, widthB=2.5, lengthB=.1', lw=1, color='k'))\n",
    "si_axs[2].annotate('***', xy=(120, 20), xytext=(120, 0), xycoords='axes points', ha='center',\n",
    "                va='bottom', arrowprops=dict(arrowstyle='-[, widthB=4.5, lengthB=.1', lw=1, color='k'))\n",
    "si_axs[2].title.set_text('Sociability Index')\n",
    "plt.tight_layout(rect=[0, 0.03, 1, 1])\n"
   ]
  },
  {
   "cell_type": "markdown",
   "metadata": {},
   "source": [
    "### Elevated Plus Maze"
   ]
  },
  {
   "cell_type": "code",
   "execution_count": 439,
   "metadata": {},
   "outputs": [],
   "source": [
    "epm_raw= pd.read_csv('/Users/labc02/Documents/PDCB_data/Behavior/EPM/EPM_pool.csv')\n",
    "epm_s2 = epm_raw[epm_raw['Session']=='Session 2']"
   ]
  },
  {
   "cell_type": "code",
   "execution_count": 440,
   "metadata": {},
   "outputs": [
    {
     "data": {
      "text/plain": [
       "Index(['Subject_ID', 'Group', 'Sex', 'Genotype', 'Session', 'Entries_Center',\n",
       "       'Entries_Open_Arms', 'Entries_Closed_Arms', 'Time_Center(%)',\n",
       "       'Time_Open_Arms_Per', 'Time_Closed_Arms_Per', 'Total_Distance',\n",
       "       'Distance_Center', 'Distance_Open_Arms', 'Distance_Closed_Arms',\n",
       "       'Distance_Center(%)', 'Distance_Open_Arms(%)',\n",
       "       'Distance_Closed_Arms(%)'],\n",
       "      dtype='object')"
      ]
     },
     "execution_count": 440,
     "metadata": {},
     "output_type": "execute_result"
    }
   ],
   "source": [
    "epm_s2.columns"
   ]
  },
  {
   "cell_type": "markdown",
   "metadata": {},
   "source": [
    "### Total Distance"
   ]
  },
  {
   "cell_type": "code",
   "execution_count": 442,
   "metadata": {},
   "outputs": [
    {
     "name": "stdout",
     "output_type": "stream",
     "text": [
      "Normality test (Shapiro), Total_Distance\n",
      "            W      pval  normal\n",
      "KOF  0.851590  0.098863    True\n",
      "KOM  0.929818  0.514424    True\n",
      "WTF  0.816767  0.059766    True\n",
      "WTM  0.811551  0.027644   False\n",
      "Normality test (Shapiro), Entries_Center\n",
      "            W      pval  normal\n",
      "KOF  0.955353  0.764857    True\n",
      "KOM  0.957675  0.787681    True\n",
      "WTF  0.928904  0.541615    True\n",
      "WTM  0.968282  0.879647    True\n",
      "Normality test (Shapiro), Time_Open_Arms_Per\n",
      "            W      pval  normal\n",
      "KOF  0.827942  0.056510    True\n",
      "KOM  0.976515  0.943657    True\n",
      "WTF  0.941611  0.653274    True\n",
      "WTM  0.971271  0.905373    True\n"
     ]
    }
   ],
   "source": [
    "for var_ in ['Total_Distance', 'Entries_Center', 'Time_Open_Arms_Per']:\n",
    "    print(f'Normality test (Shapiro), {var_}')\n",
    "    print(pg.normality(data=epm_s2, dv=var_, group='Group'))"
   ]
  },
  {
   "cell_type": "code",
   "execution_count": 443,
   "metadata": {},
   "outputs": [
    {
     "name": "stdout",
     "output_type": "stream",
     "text": [
      "Homoscedasticity test (Levene), Total_Distance\n",
      "               W      pval  equal_var\n",
      "levene  5.353429  0.004838      False\n",
      "Homoscedasticity test (Levene), Entries_Center\n",
      "               W      pval  equal_var\n",
      "levene  0.440417  0.725893       True\n",
      "Homoscedasticity test (Levene), Time_Open_Arms_Per\n",
      "               W     pval  equal_var\n",
      "levene  1.624102  0.20614       True\n"
     ]
    }
   ],
   "source": [
    "for var_ in ['Total_Distance', 'Entries_Center', 'Time_Open_Arms_Per']:\n",
    "    print(f'Homoscedasticity test (Levene), {var_}')\n",
    "    print(pg.homoscedasticity(data=epm_s2, dv=var_, group='Group'))"
   ]
  },
  {
   "cell_type": "markdown",
   "metadata": {},
   "source": [
    "#### Total Distance"
   ]
  },
  {
   "cell_type": "markdown",
   "metadata": {},
   "source": [
    "Technically a Welch anova is the most appropriate test since there's a small deviation from normality and homoscedasticity failed."
   ]
  },
  {
   "cell_type": "code",
   "execution_count": 446,
   "metadata": {},
   "outputs": [
    {
     "data": {
      "text/html": [
       "<div>\n",
       "<style scoped>\n",
       "    .dataframe tbody tr th:only-of-type {\n",
       "        vertical-align: middle;\n",
       "    }\n",
       "\n",
       "    .dataframe tbody tr th {\n",
       "        vertical-align: top;\n",
       "    }\n",
       "\n",
       "    .dataframe thead th {\n",
       "        text-align: right;\n",
       "    }\n",
       "</style>\n",
       "<table border=\"1\" class=\"dataframe\">\n",
       "  <thead>\n",
       "    <tr style=\"text-align: right;\">\n",
       "      <th></th>\n",
       "      <th>Source</th>\n",
       "      <th>ddof1</th>\n",
       "      <th>ddof2</th>\n",
       "      <th>F</th>\n",
       "      <th>p-unc</th>\n",
       "      <th>np2</th>\n",
       "    </tr>\n",
       "  </thead>\n",
       "  <tbody>\n",
       "    <tr>\n",
       "      <th>0</th>\n",
       "      <td>Group</td>\n",
       "      <td>3</td>\n",
       "      <td>14.088487</td>\n",
       "      <td>4.793986</td>\n",
       "      <td>0.016689</td>\n",
       "      <td>0.339721</td>\n",
       "    </tr>\n",
       "  </tbody>\n",
       "</table>\n",
       "</div>"
      ],
      "text/plain": [
       "  Source  ddof1      ddof2         F     p-unc       np2\n",
       "0  Group      3  14.088487  4.793986  0.016689  0.339721"
      ]
     },
     "execution_count": 446,
     "metadata": {},
     "output_type": "execute_result"
    }
   ],
   "source": [
    "pg.welch_anova(data=epm_s2, dv='Total_Distance', between='Group')"
   ]
  },
  {
   "cell_type": "markdown",
   "metadata": {},
   "source": [
    "Nonetheless, all the aforementioned criteria just diminishes ANOVA power."
   ]
  },
  {
   "cell_type": "code",
   "execution_count": 447,
   "metadata": {},
   "outputs": [
    {
     "data": {
      "text/html": [
       "<div>\n",
       "<style scoped>\n",
       "    .dataframe tbody tr th:only-of-type {\n",
       "        vertical-align: middle;\n",
       "    }\n",
       "\n",
       "    .dataframe tbody tr th {\n",
       "        vertical-align: top;\n",
       "    }\n",
       "\n",
       "    .dataframe thead th {\n",
       "        text-align: right;\n",
       "    }\n",
       "</style>\n",
       "<table border=\"1\" class=\"dataframe\">\n",
       "  <thead>\n",
       "    <tr style=\"text-align: right;\">\n",
       "      <th></th>\n",
       "      <th>Source</th>\n",
       "      <th>SS</th>\n",
       "      <th>DF</th>\n",
       "      <th>MS</th>\n",
       "      <th>F</th>\n",
       "      <th>p-unc</th>\n",
       "      <th>np2</th>\n",
       "    </tr>\n",
       "  </thead>\n",
       "  <tbody>\n",
       "    <tr>\n",
       "      <th>0</th>\n",
       "      <td>Sex</td>\n",
       "      <td>9.465538e+04</td>\n",
       "      <td>1.0</td>\n",
       "      <td>9.465538e+04</td>\n",
       "      <td>0.119104</td>\n",
       "      <td>0.732588</td>\n",
       "      <td>0.004236</td>\n",
       "    </tr>\n",
       "    <tr>\n",
       "      <th>1</th>\n",
       "      <td>Genotype</td>\n",
       "      <td>1.143753e+07</td>\n",
       "      <td>1.0</td>\n",
       "      <td>1.143753e+07</td>\n",
       "      <td>14.391699</td>\n",
       "      <td>0.000729</td>\n",
       "      <td>0.339493</td>\n",
       "    </tr>\n",
       "    <tr>\n",
       "      <th>2</th>\n",
       "      <td>Sex * Genotype</td>\n",
       "      <td>2.381816e+03</td>\n",
       "      <td>1.0</td>\n",
       "      <td>2.381816e+03</td>\n",
       "      <td>0.002997</td>\n",
       "      <td>0.956730</td>\n",
       "      <td>0.000107</td>\n",
       "    </tr>\n",
       "    <tr>\n",
       "      <th>3</th>\n",
       "      <td>Residual</td>\n",
       "      <td>2.225246e+07</td>\n",
       "      <td>28.0</td>\n",
       "      <td>7.947309e+05</td>\n",
       "      <td>NaN</td>\n",
       "      <td>NaN</td>\n",
       "      <td>NaN</td>\n",
       "    </tr>\n",
       "  </tbody>\n",
       "</table>\n",
       "</div>"
      ],
      "text/plain": [
       "           Source            SS    DF            MS          F     p-unc  \\\n",
       "0             Sex  9.465538e+04   1.0  9.465538e+04   0.119104  0.732588   \n",
       "1        Genotype  1.143753e+07   1.0  1.143753e+07  14.391699  0.000729   \n",
       "2  Sex * Genotype  2.381816e+03   1.0  2.381816e+03   0.002997  0.956730   \n",
       "3        Residual  2.225246e+07  28.0  7.947309e+05        NaN       NaN   \n",
       "\n",
       "        np2  \n",
       "0  0.004236  \n",
       "1  0.339493  \n",
       "2  0.000107  \n",
       "3       NaN  "
      ]
     },
     "execution_count": 447,
     "metadata": {},
     "output_type": "execute_result"
    }
   ],
   "source": [
    "pg.anova(data=epm_s2, dv='Total_Distance', between=['Sex', 'Genotype'])"
   ]
  },
  {
   "cell_type": "markdown",
   "metadata": {},
   "source": [
    "Even though, the ANOVA is significant for Genotype"
   ]
  },
  {
   "cell_type": "code",
   "execution_count": 448,
   "metadata": {},
   "outputs": [
    {
     "name": "stdout",
     "output_type": "stream",
     "text": [
      "Normality test (Shapiro), Total_Distance\n",
      "           W      pval  normal\n",
      "KO  0.893821  0.064044    True\n",
      "WT  0.832803  0.007686   False\n",
      "Normality test (Shapiro), Entries_Center\n",
      "           W      pval  normal\n",
      "KO  0.961518  0.689425    True\n",
      "WT  0.951496  0.513760    True\n",
      "Normality test (Shapiro), Time_Open_Arms_Per\n",
      "           W      pval  normal\n",
      "KO  0.734289  0.000413   False\n",
      "WT  0.973177  0.887065    True\n"
     ]
    }
   ],
   "source": [
    "for var_ in ['Total_Distance', 'Entries_Center', 'Time_Open_Arms_Per']:\n",
    "    print(f'Normality test (Shapiro), {var_}')\n",
    "    print(pg.normality(data=epm_s2, dv=var_, group='Genotype'))"
   ]
  },
  {
   "cell_type": "code",
   "execution_count": 449,
   "metadata": {},
   "outputs": [
    {
     "data": {
      "text/html": [
       "<div>\n",
       "<style scoped>\n",
       "    .dataframe tbody tr th:only-of-type {\n",
       "        vertical-align: middle;\n",
       "    }\n",
       "\n",
       "    .dataframe tbody tr th {\n",
       "        vertical-align: top;\n",
       "    }\n",
       "\n",
       "    .dataframe thead th {\n",
       "        text-align: right;\n",
       "    }\n",
       "</style>\n",
       "<table border=\"1\" class=\"dataframe\">\n",
       "  <thead>\n",
       "    <tr style=\"text-align: right;\">\n",
       "      <th></th>\n",
       "      <th>T</th>\n",
       "      <th>dof</th>\n",
       "      <th>tail</th>\n",
       "      <th>p-val</th>\n",
       "      <th>CI95%</th>\n",
       "      <th>cohen-d</th>\n",
       "      <th>BF10</th>\n",
       "      <th>power</th>\n",
       "    </tr>\n",
       "  </thead>\n",
       "  <tbody>\n",
       "    <tr>\n",
       "      <th>T-test</th>\n",
       "      <td>3.903596</td>\n",
       "      <td>30</td>\n",
       "      <td>two-sided</td>\n",
       "      <td>0.000497</td>\n",
       "      <td>[568.0, 1814.44]</td>\n",
       "      <td>1.380129</td>\n",
       "      <td>54.945</td>\n",
       "      <td>0.965305</td>\n",
       "    </tr>\n",
       "  </tbody>\n",
       "</table>\n",
       "</div>"
      ],
      "text/plain": [
       "               T  dof       tail     p-val             CI95%   cohen-d  \\\n",
       "T-test  3.903596   30  two-sided  0.000497  [568.0, 1814.44]  1.380129   \n",
       "\n",
       "          BF10     power  \n",
       "T-test  54.945  0.965305  "
      ]
     },
     "execution_count": 449,
     "metadata": {},
     "output_type": "execute_result"
    }
   ],
   "source": [
    "pg.ttest(x=epm_s2['Total_Distance'][epm_s2['Genotype'] == 'WT'], y=epm_s2['Total_Distance'][epm_s2['Genotype'] == 'KO'])\n"
   ]
  },
  {
   "cell_type": "markdown",
   "metadata": {},
   "source": [
    "#### Crosses through center"
   ]
  },
  {
   "cell_type": "code",
   "execution_count": 434,
   "metadata": {},
   "outputs": [
    {
     "data": {
      "text/html": [
       "<div>\n",
       "<style scoped>\n",
       "    .dataframe tbody tr th:only-of-type {\n",
       "        vertical-align: middle;\n",
       "    }\n",
       "\n",
       "    .dataframe tbody tr th {\n",
       "        vertical-align: top;\n",
       "    }\n",
       "\n",
       "    .dataframe thead th {\n",
       "        text-align: right;\n",
       "    }\n",
       "</style>\n",
       "<table border=\"1\" class=\"dataframe\">\n",
       "  <thead>\n",
       "    <tr style=\"text-align: right;\">\n",
       "      <th></th>\n",
       "      <th>Source</th>\n",
       "      <th>SS</th>\n",
       "      <th>DF</th>\n",
       "      <th>MS</th>\n",
       "      <th>F</th>\n",
       "      <th>p-unc</th>\n",
       "      <th>np2</th>\n",
       "    </tr>\n",
       "  </thead>\n",
       "  <tbody>\n",
       "    <tr>\n",
       "      <th>0</th>\n",
       "      <td>Sex</td>\n",
       "      <td>3.639764</td>\n",
       "      <td>1.0</td>\n",
       "      <td>3.639764</td>\n",
       "      <td>0.050288</td>\n",
       "      <td>0.824191</td>\n",
       "      <td>0.001793</td>\n",
       "    </tr>\n",
       "    <tr>\n",
       "      <th>1</th>\n",
       "      <td>Genotype</td>\n",
       "      <td>72.685597</td>\n",
       "      <td>1.0</td>\n",
       "      <td>72.685597</td>\n",
       "      <td>1.004247</td>\n",
       "      <td>0.324867</td>\n",
       "      <td>0.034624</td>\n",
       "    </tr>\n",
       "    <tr>\n",
       "      <th>2</th>\n",
       "      <td>Sex * Genotype</td>\n",
       "      <td>82.458451</td>\n",
       "      <td>1.0</td>\n",
       "      <td>82.458451</td>\n",
       "      <td>1.139272</td>\n",
       "      <td>0.294923</td>\n",
       "      <td>0.039097</td>\n",
       "    </tr>\n",
       "    <tr>\n",
       "      <th>3</th>\n",
       "      <td>Residual</td>\n",
       "      <td>2026.589286</td>\n",
       "      <td>28.0</td>\n",
       "      <td>72.378189</td>\n",
       "      <td>NaN</td>\n",
       "      <td>NaN</td>\n",
       "      <td>NaN</td>\n",
       "    </tr>\n",
       "  </tbody>\n",
       "</table>\n",
       "</div>"
      ],
      "text/plain": [
       "           Source           SS    DF         MS         F     p-unc       np2\n",
       "0             Sex     3.639764   1.0   3.639764  0.050288  0.824191  0.001793\n",
       "1        Genotype    72.685597   1.0  72.685597  1.004247  0.324867  0.034624\n",
       "2  Sex * Genotype    82.458451   1.0  82.458451  1.139272  0.294923  0.039097\n",
       "3        Residual  2026.589286  28.0  72.378189       NaN       NaN       NaN"
      ]
     },
     "execution_count": 434,
     "metadata": {},
     "output_type": "execute_result"
    }
   ],
   "source": [
    "pg.anova(data=epm_s2, dv='Entries_Center', between=['Sex', 'Genotype'])"
   ]
  },
  {
   "cell_type": "code",
   "execution_count": 435,
   "metadata": {},
   "outputs": [
    {
     "data": {
      "text/html": [
       "<div>\n",
       "<style scoped>\n",
       "    .dataframe tbody tr th:only-of-type {\n",
       "        vertical-align: middle;\n",
       "    }\n",
       "\n",
       "    .dataframe tbody tr th {\n",
       "        vertical-align: top;\n",
       "    }\n",
       "\n",
       "    .dataframe thead th {\n",
       "        text-align: right;\n",
       "    }\n",
       "</style>\n",
       "<table border=\"1\" class=\"dataframe\">\n",
       "  <thead>\n",
       "    <tr style=\"text-align: right;\">\n",
       "      <th></th>\n",
       "      <th>T</th>\n",
       "      <th>dof</th>\n",
       "      <th>tail</th>\n",
       "      <th>p-val</th>\n",
       "      <th>CI95%</th>\n",
       "      <th>cohen-d</th>\n",
       "      <th>BF10</th>\n",
       "      <th>power</th>\n",
       "    </tr>\n",
       "  </thead>\n",
       "  <tbody>\n",
       "    <tr>\n",
       "      <th>T-test</th>\n",
       "      <td>1.032201</td>\n",
       "      <td>30</td>\n",
       "      <td>two-sided</td>\n",
       "      <td>0.310228</td>\n",
       "      <td>[-3.0, 9.12]</td>\n",
       "      <td>0.364938</td>\n",
       "      <td>0.505</td>\n",
       "      <td>0.169928</td>\n",
       "    </tr>\n",
       "  </tbody>\n",
       "</table>\n",
       "</div>"
      ],
      "text/plain": [
       "               T  dof       tail     p-val         CI95%   cohen-d   BF10  \\\n",
       "T-test  1.032201   30  two-sided  0.310228  [-3.0, 9.12]  0.364938  0.505   \n",
       "\n",
       "           power  \n",
       "T-test  0.169928  "
      ]
     },
     "execution_count": 435,
     "metadata": {},
     "output_type": "execute_result"
    }
   ],
   "source": [
    "pg.ttest(x=epm_s2['Entries_Center'][epm_s2['Genotype'] == 'WT'], y=epm_s2['Entries_Center'][epm_s2['Genotype'] == 'KO'])\n"
   ]
  },
  {
   "cell_type": "markdown",
   "metadata": {},
   "source": [
    "#### Time in Open Arms"
   ]
  },
  {
   "cell_type": "code",
   "execution_count": 444,
   "metadata": {},
   "outputs": [
    {
     "data": {
      "text/html": [
       "<div>\n",
       "<style scoped>\n",
       "    .dataframe tbody tr th:only-of-type {\n",
       "        vertical-align: middle;\n",
       "    }\n",
       "\n",
       "    .dataframe tbody tr th {\n",
       "        vertical-align: top;\n",
       "    }\n",
       "\n",
       "    .dataframe thead th {\n",
       "        text-align: right;\n",
       "    }\n",
       "</style>\n",
       "<table border=\"1\" class=\"dataframe\">\n",
       "  <thead>\n",
       "    <tr style=\"text-align: right;\">\n",
       "      <th></th>\n",
       "      <th>Source</th>\n",
       "      <th>SS</th>\n",
       "      <th>DF</th>\n",
       "      <th>MS</th>\n",
       "      <th>F</th>\n",
       "      <th>p-unc</th>\n",
       "      <th>np2</th>\n",
       "    </tr>\n",
       "  </thead>\n",
       "  <tbody>\n",
       "    <tr>\n",
       "      <th>0</th>\n",
       "      <td>Sex</td>\n",
       "      <td>125.112069</td>\n",
       "      <td>1.0</td>\n",
       "      <td>125.112069</td>\n",
       "      <td>1.843089</td>\n",
       "      <td>0.185431</td>\n",
       "      <td>0.061759</td>\n",
       "    </tr>\n",
       "    <tr>\n",
       "      <th>1</th>\n",
       "      <td>Genotype</td>\n",
       "      <td>674.282804</td>\n",
       "      <td>1.0</td>\n",
       "      <td>674.282804</td>\n",
       "      <td>9.933199</td>\n",
       "      <td>0.003847</td>\n",
       "      <td>0.261860</td>\n",
       "    </tr>\n",
       "    <tr>\n",
       "      <th>2</th>\n",
       "      <td>Sex * Genotype</td>\n",
       "      <td>3.672214</td>\n",
       "      <td>1.0</td>\n",
       "      <td>3.672214</td>\n",
       "      <td>0.054097</td>\n",
       "      <td>0.817773</td>\n",
       "      <td>0.001928</td>\n",
       "    </tr>\n",
       "    <tr>\n",
       "      <th>3</th>\n",
       "      <td>Residual</td>\n",
       "      <td>1900.688660</td>\n",
       "      <td>28.0</td>\n",
       "      <td>67.881738</td>\n",
       "      <td>NaN</td>\n",
       "      <td>NaN</td>\n",
       "      <td>NaN</td>\n",
       "    </tr>\n",
       "  </tbody>\n",
       "</table>\n",
       "</div>"
      ],
      "text/plain": [
       "           Source           SS    DF          MS         F     p-unc       np2\n",
       "0             Sex   125.112069   1.0  125.112069  1.843089  0.185431  0.061759\n",
       "1        Genotype   674.282804   1.0  674.282804  9.933199  0.003847  0.261860\n",
       "2  Sex * Genotype     3.672214   1.0    3.672214  0.054097  0.817773  0.001928\n",
       "3        Residual  1900.688660  28.0   67.881738       NaN       NaN       NaN"
      ]
     },
     "execution_count": 444,
     "metadata": {},
     "output_type": "execute_result"
    }
   ],
   "source": [
    "pg.anova(data=epm_s2, dv='Time_Open_Arms_Per', between=['Sex', 'Genotype'])"
   ]
  },
  {
   "cell_type": "code",
   "execution_count": 450,
   "metadata": {},
   "outputs": [
    {
     "data": {
      "text/html": [
       "<div>\n",
       "<style scoped>\n",
       "    .dataframe tbody tr th:only-of-type {\n",
       "        vertical-align: middle;\n",
       "    }\n",
       "\n",
       "    .dataframe tbody tr th {\n",
       "        vertical-align: top;\n",
       "    }\n",
       "\n",
       "    .dataframe thead th {\n",
       "        text-align: right;\n",
       "    }\n",
       "</style>\n",
       "<table border=\"1\" class=\"dataframe\">\n",
       "  <thead>\n",
       "    <tr style=\"text-align: right;\">\n",
       "      <th></th>\n",
       "      <th>A</th>\n",
       "      <th>B</th>\n",
       "      <th>mean(A)</th>\n",
       "      <th>mean(B)</th>\n",
       "      <th>diff</th>\n",
       "      <th>se</th>\n",
       "      <th>tail</th>\n",
       "      <th>T</th>\n",
       "      <th>p-tukey</th>\n",
       "      <th>hedges</th>\n",
       "    </tr>\n",
       "  </thead>\n",
       "  <tbody>\n",
       "    <tr>\n",
       "      <th>0</th>\n",
       "      <td>KOF</td>\n",
       "      <td>KOM</td>\n",
       "      <td>10.780000</td>\n",
       "      <td>6.135000</td>\n",
       "      <td>4.645000</td>\n",
       "      <td>4.119519</td>\n",
       "      <td>two-sided</td>\n",
       "      <td>1.127559</td>\n",
       "      <td>0.651185</td>\n",
       "      <td>0.533028</td>\n",
       "    </tr>\n",
       "    <tr>\n",
       "      <th>1</th>\n",
       "      <td>KOF</td>\n",
       "      <td>WTF</td>\n",
       "      <td>10.780000</td>\n",
       "      <td>19.255714</td>\n",
       "      <td>-8.475714</td>\n",
       "      <td>4.264107</td>\n",
       "      <td>two-sided</td>\n",
       "      <td>-1.987688</td>\n",
       "      <td>0.199333</td>\n",
       "      <td>-0.968213</td>\n",
       "    </tr>\n",
       "    <tr>\n",
       "      <th>2</th>\n",
       "      <td>KOF</td>\n",
       "      <td>WTM</td>\n",
       "      <td>10.780000</td>\n",
       "      <td>15.971111</td>\n",
       "      <td>-5.191111</td>\n",
       "      <td>4.003453</td>\n",
       "      <td>two-sided</td>\n",
       "      <td>-1.296659</td>\n",
       "      <td>0.556555</td>\n",
       "      <td>-0.598026</td>\n",
       "    </tr>\n",
       "    <tr>\n",
       "      <th>3</th>\n",
       "      <td>KOM</td>\n",
       "      <td>WTF</td>\n",
       "      <td>6.135000</td>\n",
       "      <td>19.255714</td>\n",
       "      <td>-13.120714</td>\n",
       "      <td>4.264107</td>\n",
       "      <td>two-sided</td>\n",
       "      <td>-3.077013</td>\n",
       "      <td>0.013838</td>\n",
       "      <td>-1.498829</td>\n",
       "    </tr>\n",
       "    <tr>\n",
       "      <th>4</th>\n",
       "      <td>KOM</td>\n",
       "      <td>WTM</td>\n",
       "      <td>6.135000</td>\n",
       "      <td>15.971111</td>\n",
       "      <td>-9.836111</td>\n",
       "      <td>4.003453</td>\n",
       "      <td>two-sided</td>\n",
       "      <td>-2.456907</td>\n",
       "      <td>0.073363</td>\n",
       "      <td>-1.133138</td>\n",
       "    </tr>\n",
       "    <tr>\n",
       "      <th>5</th>\n",
       "      <td>WTF</td>\n",
       "      <td>WTM</td>\n",
       "      <td>19.255714</td>\n",
       "      <td>15.971111</td>\n",
       "      <td>3.284603</td>\n",
       "      <td>4.152085</td>\n",
       "      <td>two-sided</td>\n",
       "      <td>0.791073</td>\n",
       "      <td>0.839485</td>\n",
       "      <td>0.376918</td>\n",
       "    </tr>\n",
       "  </tbody>\n",
       "</table>\n",
       "</div>"
      ],
      "text/plain": [
       "     A    B    mean(A)    mean(B)       diff        se       tail         T  \\\n",
       "0  KOF  KOM  10.780000   6.135000   4.645000  4.119519  two-sided  1.127559   \n",
       "1  KOF  WTF  10.780000  19.255714  -8.475714  4.264107  two-sided -1.987688   \n",
       "2  KOF  WTM  10.780000  15.971111  -5.191111  4.003453  two-sided -1.296659   \n",
       "3  KOM  WTF   6.135000  19.255714 -13.120714  4.264107  two-sided -3.077013   \n",
       "4  KOM  WTM   6.135000  15.971111  -9.836111  4.003453  two-sided -2.456907   \n",
       "5  WTF  WTM  19.255714  15.971111   3.284603  4.152085  two-sided  0.791073   \n",
       "\n",
       "    p-tukey    hedges  \n",
       "0  0.651185  0.533028  \n",
       "1  0.199333 -0.968213  \n",
       "2  0.556555 -0.598026  \n",
       "3  0.013838 -1.498829  \n",
       "4  0.073363 -1.133138  \n",
       "5  0.839485  0.376918  "
      ]
     },
     "execution_count": 450,
     "metadata": {},
     "output_type": "execute_result"
    }
   ],
   "source": [
    "pg.pairwise_tukey(data=epm_s2, dv='Time_Open_Arms_Per', between='Group')"
   ]
  },
  {
   "cell_type": "code",
   "execution_count": 459,
   "metadata": {},
   "outputs": [],
   "source": [
    "epm_, epm_outs = detec_outlier(df=epm_s2, var_name=['Time_Open_Arms_Per'], var_group='Group')"
   ]
  },
  {
   "cell_type": "code",
   "execution_count": 460,
   "metadata": {},
   "outputs": [
    {
     "data": {
      "text/plain": [
       "{60}"
      ]
     },
     "execution_count": 460,
     "metadata": {},
     "output_type": "execute_result"
    }
   ],
   "source": [
    "epm_outs"
   ]
  },
  {
   "cell_type": "code",
   "execution_count": 461,
   "metadata": {},
   "outputs": [
    {
     "data": {
      "text/html": [
       "<div>\n",
       "<style scoped>\n",
       "    .dataframe tbody tr th:only-of-type {\n",
       "        vertical-align: middle;\n",
       "    }\n",
       "\n",
       "    .dataframe tbody tr th {\n",
       "        vertical-align: top;\n",
       "    }\n",
       "\n",
       "    .dataframe thead th {\n",
       "        text-align: right;\n",
       "    }\n",
       "</style>\n",
       "<table border=\"1\" class=\"dataframe\">\n",
       "  <thead>\n",
       "    <tr style=\"text-align: right;\">\n",
       "      <th></th>\n",
       "      <th>W</th>\n",
       "      <th>pval</th>\n",
       "      <th>normal</th>\n",
       "    </tr>\n",
       "  </thead>\n",
       "  <tbody>\n",
       "    <tr>\n",
       "      <th>KO</th>\n",
       "      <td>0.963380</td>\n",
       "      <td>0.750888</td>\n",
       "      <td>True</td>\n",
       "    </tr>\n",
       "    <tr>\n",
       "      <th>WT</th>\n",
       "      <td>0.973177</td>\n",
       "      <td>0.887065</td>\n",
       "      <td>True</td>\n",
       "    </tr>\n",
       "  </tbody>\n",
       "</table>\n",
       "</div>"
      ],
      "text/plain": [
       "           W      pval  normal\n",
       "KO  0.963380  0.750888    True\n",
       "WT  0.973177  0.887065    True"
      ]
     },
     "execution_count": 461,
     "metadata": {},
     "output_type": "execute_result"
    }
   ],
   "source": [
    "pg.normality(data=epm_, dv='Time_Open_Arms_Per', group='Genotype')"
   ]
  },
  {
   "cell_type": "code",
   "execution_count": 462,
   "metadata": {},
   "outputs": [
    {
     "data": {
      "text/html": [
       "<div>\n",
       "<style scoped>\n",
       "    .dataframe tbody tr th:only-of-type {\n",
       "        vertical-align: middle;\n",
       "    }\n",
       "\n",
       "    .dataframe tbody tr th {\n",
       "        vertical-align: top;\n",
       "    }\n",
       "\n",
       "    .dataframe thead th {\n",
       "        text-align: right;\n",
       "    }\n",
       "</style>\n",
       "<table border=\"1\" class=\"dataframe\">\n",
       "  <thead>\n",
       "    <tr style=\"text-align: right;\">\n",
       "      <th></th>\n",
       "      <th>T</th>\n",
       "      <th>dof</th>\n",
       "      <th>tail</th>\n",
       "      <th>p-val</th>\n",
       "      <th>CI95%</th>\n",
       "      <th>cohen-d</th>\n",
       "      <th>BF10</th>\n",
       "      <th>power</th>\n",
       "    </tr>\n",
       "  </thead>\n",
       "  <tbody>\n",
       "    <tr>\n",
       "      <th>T-test</th>\n",
       "      <td>4.527728</td>\n",
       "      <td>21.580434</td>\n",
       "      <td>two-sided</td>\n",
       "      <td>0.000173</td>\n",
       "      <td>[5.79, 15.59]</td>\n",
       "      <td>1.592892</td>\n",
       "      <td>221.788</td>\n",
       "      <td>0.989861</td>\n",
       "    </tr>\n",
       "  </tbody>\n",
       "</table>\n",
       "</div>"
      ],
      "text/plain": [
       "               T        dof       tail     p-val          CI95%   cohen-d  \\\n",
       "T-test  4.527728  21.580434  two-sided  0.000173  [5.79, 15.59]  1.592892   \n",
       "\n",
       "           BF10     power  \n",
       "T-test  221.788  0.989861  "
      ]
     },
     "execution_count": 462,
     "metadata": {},
     "output_type": "execute_result"
    }
   ],
   "source": [
    "pg.ttest(x=epm_['Time_Open_Arms_Per'][epm_['Genotype'] == 'WT'], y=epm_['Time_Open_Arms_Per'][epm_['Genotype'] == 'KO'])\n"
   ]
  },
  {
   "cell_type": "code",
   "execution_count": 485,
   "metadata": {},
   "outputs": [
    {
     "data": {
      "image/png": "[encoded data removed]",
      "text/plain": [
       "<Figure size 720x216 with 3 Axes>"
      ]
     },
     "metadata": {
      "needs_background": "light"
     },
     "output_type": "display_data"
    }
   ],
   "source": [
    "epm_fig, epm_axs = plt.subplots(ncols=3, nrows = 1, figsize = (10, 3))\n",
    "sns.boxplot(data = epm_s2, x='Genotype', y='Total_Distance', ax =epm_axs[0], palette=['forestgreen', 'royalblue'], showmeans=True, meanprops={'marker':'+', 'markeredgecolor':'k'}, width=0.5)\n",
    "epm_axs[0].title.set_text('Total Distance')\n",
    "epm_axs[0].set_ylabel('Centimeters')\n",
    "epm_axs[0].set_ylim([900, 5000])\n",
    "epm_axs[0].annotate(s='***', xy=(95, 125), xycoords='axes points', xytext=(95, 125), ha='center',\n",
    "                va='bottom', arrowprops=dict(arrowstyle='-[, widthB=4.5, lengthB=.2', lw=1, color='k'))\n",
    "\n",
    "sns.boxplot(x='Genotype', y='Entries_Center', data=epm_s2, palette=['forestgreen', 'royalblue'], showmeans=True, meanprops={'marker':'+', 'markeredgecolor':'k'}, width=0.5, ax=epm_axs[1])\n",
    "epm_axs[1].set_ylabel('Crosses')\n",
    "epm_axs[1].title.set_text('Crosses through Center')\n",
    "\n",
    "sns.boxplot(data=epm_, x='Genotype', y='Time_Open_Arms_Per', palette=['forestgreen', 'royalblue'], width=.5, showmeans=True, meanprops={'marker':'+', 'markeredgecolor':'k'}, ax=epm_axs[2])\n",
    "epm_axs[2].set_ylabel('Time(%)')\n",
    "epm_axs[2].annotate('***', xy=(95, 120), xytext=(95, 120), xycoords='axes points', ha='center',\n",
    "                va='bottom', arrowprops=dict(arrowstyle='-[, widthB=4.5, lengthB=.2', lw=1, color='k'))\n",
    "epm_axs[2].title.set_text('Time in Open Arms(%)')\n",
    "epm_axs[2].set_ylim([0, 40])\n",
    "plt.tight_layout(rect=[0, 0.03, 1, 1])"
   ]
  },
  {
   "cell_type": "code",
   "execution_count": null,
   "metadata": {},
   "outputs": [],
   "source": []
  }
 ],
 "metadata": {
  "kernelspec": {
   "display_name": "Python 3",
   "language": "python",
   "name": "python3"
  },
  "language_info": {
   "codemirror_mode": {
    "name": "ipython",
    "version": 3
   },
   "file_extension": ".py",
   "mimetype": "text/x-python",
   "name": "python",
   "nbconvert_exporter": "python",
   "pygments_lexer": "ipython3",
   "version": "3.8.2"
  }
 },
 "nbformat": 4,
 "nbformat_minor": 4
}
